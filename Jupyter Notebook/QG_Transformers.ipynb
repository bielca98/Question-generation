{
  "cells": [
    {
      "cell_type": "markdown",
      "metadata": {
        "id": "jf9YC9i3Uuy4"
      },
      "source": [
        "# Setup"
      ]
    },
    {
      "cell_type": "markdown",
      "metadata": {
        "id": "suP3IY4v2xxK"
      },
      "source": [
        "Install the requirements needed to execute this notebook."
      ]
    },
    {
      "cell_type": "code",
      "execution_count": null,
      "metadata": {
        "colab": {
          "base_uri": "https://localhost:8080/"
        },
        "id": "WZ1gT-8pV1Vt",
        "outputId": "ea199bae-8134-4d50-ec29-90e2103dac77"
      },
      "outputs": [
        {
          "output_type": "stream",
          "name": "stdout",
          "text": [
            "Looking in indexes: https://pypi.org/simple, https://us-python.pkg.dev/colab-wheels/public/simple/\n",
            "Requirement already satisfied: datasets==1.9.0 in /usr/local/lib/python3.7/dist-packages (1.9.0)\n",
            "Requirement already satisfied: multiprocess in /usr/local/lib/python3.7/dist-packages (from datasets==1.9.0) (0.70.12.2)\n",
            "Requirement already satisfied: numpy>=1.17 in /usr/local/lib/python3.7/dist-packages (from datasets==1.9.0) (1.21.6)\n",
            "Collecting huggingface-hub<0.1.0\n",
            "  Using cached huggingface_hub-0.0.19-py3-none-any.whl (56 kB)\n",
            "Requirement already satisfied: importlib-metadata in /usr/local/lib/python3.7/dist-packages (from datasets==1.9.0) (4.11.3)\n",
            "Requirement already satisfied: pandas in /usr/local/lib/python3.7/dist-packages (from datasets==1.9.0) (1.3.5)\n",
            "Requirement already satisfied: fsspec>=2021.05.0 in /usr/local/lib/python3.7/dist-packages (from datasets==1.9.0) (2022.5.0)\n",
            "Requirement already satisfied: tqdm>=4.27 in /usr/local/lib/python3.7/dist-packages (from datasets==1.9.0) (4.64.0)\n",
            "Requirement already satisfied: pyarrow!=4.0.0,>=1.0.0 in /usr/local/lib/python3.7/dist-packages (from datasets==1.9.0) (6.0.1)\n",
            "Requirement already satisfied: requests>=2.19.0 in /usr/local/lib/python3.7/dist-packages (from datasets==1.9.0) (2.23.0)\n",
            "Requirement already satisfied: dill in /usr/local/lib/python3.7/dist-packages (from datasets==1.9.0) (0.3.5.1)\n",
            "Requirement already satisfied: packaging in /usr/local/lib/python3.7/dist-packages (from datasets==1.9.0) (21.3)\n",
            "Requirement already satisfied: xxhash in /usr/local/lib/python3.7/dist-packages (from datasets==1.9.0) (3.0.0)\n",
            "Requirement already satisfied: pyyaml in /usr/local/lib/python3.7/dist-packages (from huggingface-hub<0.1.0->datasets==1.9.0) (6.0)\n",
            "Requirement already satisfied: typing-extensions in /usr/local/lib/python3.7/dist-packages (from huggingface-hub<0.1.0->datasets==1.9.0) (4.2.0)\n",
            "Requirement already satisfied: filelock in /usr/local/lib/python3.7/dist-packages (from huggingface-hub<0.1.0->datasets==1.9.0) (3.7.0)\n",
            "Requirement already satisfied: pyparsing!=3.0.5,>=2.0.2 in /usr/local/lib/python3.7/dist-packages (from packaging->datasets==1.9.0) (3.0.9)\n",
            "Requirement already satisfied: certifi>=2017.4.17 in /usr/local/lib/python3.7/dist-packages (from requests>=2.19.0->datasets==1.9.0) (2022.5.18.1)\n",
            "Requirement already satisfied: urllib3!=1.25.0,!=1.25.1,<1.26,>=1.21.1 in /usr/local/lib/python3.7/dist-packages (from requests>=2.19.0->datasets==1.9.0) (1.24.3)\n",
            "Requirement already satisfied: chardet<4,>=3.0.2 in /usr/local/lib/python3.7/dist-packages (from requests>=2.19.0->datasets==1.9.0) (3.0.4)\n",
            "Requirement already satisfied: idna<3,>=2.5 in /usr/local/lib/python3.7/dist-packages (from requests>=2.19.0->datasets==1.9.0) (2.10)\n",
            "Requirement already satisfied: zipp>=0.5 in /usr/local/lib/python3.7/dist-packages (from importlib-metadata->datasets==1.9.0) (3.8.0)\n",
            "Requirement already satisfied: pytz>=2017.3 in /usr/local/lib/python3.7/dist-packages (from pandas->datasets==1.9.0) (2022.1)\n",
            "Requirement already satisfied: python-dateutil>=2.7.3 in /usr/local/lib/python3.7/dist-packages (from pandas->datasets==1.9.0) (2.8.2)\n",
            "Requirement already satisfied: six>=1.5 in /usr/local/lib/python3.7/dist-packages (from python-dateutil>=2.7.3->pandas->datasets==1.9.0) (1.15.0)\n",
            "Installing collected packages: huggingface-hub\n",
            "  Attempting uninstall: huggingface-hub\n",
            "    Found existing installation: huggingface-hub 0.7.0\n",
            "    Uninstalling huggingface-hub-0.7.0:\n",
            "      Successfully uninstalled huggingface-hub-0.7.0\n",
            "\u001b[31mERROR: pip's dependency resolver does not currently take into account all the packages that are installed. This behaviour is the source of the following dependency conflicts.\n",
            "transformers 4.19.2 requires huggingface-hub<1.0,>=0.1.0, but you have huggingface-hub 0.0.19 which is incompatible.\u001b[0m\n",
            "Successfully installed huggingface-hub-0.0.19\n",
            "Looking in indexes: https://pypi.org/simple, https://us-python.pkg.dev/colab-wheels/public/simple/\n",
            "Requirement already satisfied: transformers in /usr/local/lib/python3.7/dist-packages (4.19.2)\n",
            "Requirement already satisfied: importlib-metadata in /usr/local/lib/python3.7/dist-packages (from transformers) (4.11.3)\n",
            "Collecting huggingface-hub<1.0,>=0.1.0\n",
            "  Using cached huggingface_hub-0.7.0-py3-none-any.whl (86 kB)\n",
            "Requirement already satisfied: pyyaml>=5.1 in /usr/local/lib/python3.7/dist-packages (from transformers) (6.0)\n",
            "Requirement already satisfied: requests in /usr/local/lib/python3.7/dist-packages (from transformers) (2.23.0)\n",
            "Requirement already satisfied: tokenizers!=0.11.3,<0.13,>=0.11.1 in /usr/local/lib/python3.7/dist-packages (from transformers) (0.12.1)\n",
            "Requirement already satisfied: regex!=2019.12.17 in /usr/local/lib/python3.7/dist-packages (from transformers) (2022.4.24)\n",
            "Requirement already satisfied: tqdm>=4.27 in /usr/local/lib/python3.7/dist-packages (from transformers) (4.64.0)\n",
            "Requirement already satisfied: numpy>=1.17 in /usr/local/lib/python3.7/dist-packages (from transformers) (1.21.6)\n",
            "Requirement already satisfied: filelock in /usr/local/lib/python3.7/dist-packages (from transformers) (3.7.0)\n",
            "Requirement already satisfied: packaging>=20.0 in /usr/local/lib/python3.7/dist-packages (from transformers) (21.3)\n",
            "Requirement already satisfied: typing-extensions>=3.7.4.3 in /usr/local/lib/python3.7/dist-packages (from huggingface-hub<1.0,>=0.1.0->transformers) (4.2.0)\n",
            "Requirement already satisfied: pyparsing!=3.0.5,>=2.0.2 in /usr/local/lib/python3.7/dist-packages (from packaging>=20.0->transformers) (3.0.9)\n",
            "Requirement already satisfied: zipp>=0.5 in /usr/local/lib/python3.7/dist-packages (from importlib-metadata->transformers) (3.8.0)\n",
            "Requirement already satisfied: idna<3,>=2.5 in /usr/local/lib/python3.7/dist-packages (from requests->transformers) (2.10)\n",
            "Requirement already satisfied: chardet<4,>=3.0.2 in /usr/local/lib/python3.7/dist-packages (from requests->transformers) (3.0.4)\n",
            "Requirement already satisfied: urllib3!=1.25.0,!=1.25.1,<1.26,>=1.21.1 in /usr/local/lib/python3.7/dist-packages (from requests->transformers) (1.24.3)\n",
            "Requirement already satisfied: certifi>=2017.4.17 in /usr/local/lib/python3.7/dist-packages (from requests->transformers) (2022.5.18.1)\n",
            "Installing collected packages: huggingface-hub\n",
            "  Attempting uninstall: huggingface-hub\n",
            "    Found existing installation: huggingface-hub 0.0.19\n",
            "    Uninstalling huggingface-hub-0.0.19:\n",
            "      Successfully uninstalled huggingface-hub-0.0.19\n",
            "\u001b[31mERROR: pip's dependency resolver does not currently take into account all the packages that are installed. This behaviour is the source of the following dependency conflicts.\n",
            "datasets 1.9.0 requires huggingface-hub<0.1.0, but you have huggingface-hub 0.7.0 which is incompatible.\u001b[0m\n",
            "Successfully installed huggingface-hub-0.7.0\n",
            "Looking in indexes: https://pypi.org/simple, https://us-python.pkg.dev/colab-wheels/public/simple/\n",
            "Requirement already satisfied: pytorch-lightning in /usr/local/lib/python3.7/dist-packages (1.6.3)\n",
            "Requirement already satisfied: packaging>=17.0 in /usr/local/lib/python3.7/dist-packages (from pytorch-lightning) (21.3)\n",
            "Requirement already satisfied: torchmetrics>=0.4.1 in /usr/local/lib/python3.7/dist-packages (from pytorch-lightning) (0.8.2)\n",
            "Requirement already satisfied: tensorboard>=2.2.0 in /usr/local/lib/python3.7/dist-packages (from pytorch-lightning) (2.8.0)\n",
            "Requirement already satisfied: fsspec[http]!=2021.06.0,>=2021.05.0 in /usr/local/lib/python3.7/dist-packages (from pytorch-lightning) (2022.5.0)\n",
            "Requirement already satisfied: typing-extensions>=4.0.0 in /usr/local/lib/python3.7/dist-packages (from pytorch-lightning) (4.2.0)\n",
            "Requirement already satisfied: pyDeprecate<0.4.0,>=0.3.1 in /usr/local/lib/python3.7/dist-packages (from pytorch-lightning) (0.3.2)\n",
            "Requirement already satisfied: PyYAML>=5.4 in /usr/local/lib/python3.7/dist-packages (from pytorch-lightning) (6.0)\n",
            "Requirement already satisfied: torch>=1.8.* in /usr/local/lib/python3.7/dist-packages (from pytorch-lightning) (1.11.0+cu113)\n",
            "Requirement already satisfied: tqdm>=4.57.0 in /usr/local/lib/python3.7/dist-packages (from pytorch-lightning) (4.64.0)\n",
            "Requirement already satisfied: numpy>=1.17.2 in /usr/local/lib/python3.7/dist-packages (from pytorch-lightning) (1.21.6)\n",
            "Requirement already satisfied: aiohttp in /usr/local/lib/python3.7/dist-packages (from fsspec[http]!=2021.06.0,>=2021.05.0->pytorch-lightning) (3.8.1)\n",
            "Requirement already satisfied: requests in /usr/local/lib/python3.7/dist-packages (from fsspec[http]!=2021.06.0,>=2021.05.0->pytorch-lightning) (2.23.0)\n",
            "Requirement already satisfied: pyparsing!=3.0.5,>=2.0.2 in /usr/local/lib/python3.7/dist-packages (from packaging>=17.0->pytorch-lightning) (3.0.9)\n",
            "Requirement already satisfied: protobuf>=3.6.0 in /usr/local/lib/python3.7/dist-packages (from tensorboard>=2.2.0->pytorch-lightning) (3.17.3)\n",
            "Requirement already satisfied: google-auth<3,>=1.6.3 in /usr/local/lib/python3.7/dist-packages (from tensorboard>=2.2.0->pytorch-lightning) (1.35.0)\n",
            "Requirement already satisfied: markdown>=2.6.8 in /usr/local/lib/python3.7/dist-packages (from tensorboard>=2.2.0->pytorch-lightning) (3.3.7)\n",
            "Requirement already satisfied: google-auth-oauthlib<0.5,>=0.4.1 in /usr/local/lib/python3.7/dist-packages (from tensorboard>=2.2.0->pytorch-lightning) (0.4.6)\n",
            "Requirement already satisfied: grpcio>=1.24.3 in /usr/local/lib/python3.7/dist-packages (from tensorboard>=2.2.0->pytorch-lightning) (1.46.1)\n",
            "Requirement already satisfied: wheel>=0.26 in /usr/local/lib/python3.7/dist-packages (from tensorboard>=2.2.0->pytorch-lightning) (0.37.1)\n",
            "Requirement already satisfied: werkzeug>=0.11.15 in /usr/local/lib/python3.7/dist-packages (from tensorboard>=2.2.0->pytorch-lightning) (1.0.1)\n",
            "Requirement already satisfied: absl-py>=0.4 in /usr/local/lib/python3.7/dist-packages (from tensorboard>=2.2.0->pytorch-lightning) (1.0.0)\n",
            "Requirement already satisfied: tensorboard-data-server<0.7.0,>=0.6.0 in /usr/local/lib/python3.7/dist-packages (from tensorboard>=2.2.0->pytorch-lightning) (0.6.1)\n",
            "Requirement already satisfied: tensorboard-plugin-wit>=1.6.0 in /usr/local/lib/python3.7/dist-packages (from tensorboard>=2.2.0->pytorch-lightning) (1.8.1)\n",
            "Requirement already satisfied: setuptools>=41.0.0 in /usr/local/lib/python3.7/dist-packages (from tensorboard>=2.2.0->pytorch-lightning) (57.4.0)\n",
            "Requirement already satisfied: six in /usr/local/lib/python3.7/dist-packages (from absl-py>=0.4->tensorboard>=2.2.0->pytorch-lightning) (1.15.0)\n",
            "Requirement already satisfied: cachetools<5.0,>=2.0.0 in /usr/local/lib/python3.7/dist-packages (from google-auth<3,>=1.6.3->tensorboard>=2.2.0->pytorch-lightning) (4.2.4)\n",
            "Requirement already satisfied: pyasn1-modules>=0.2.1 in /usr/local/lib/python3.7/dist-packages (from google-auth<3,>=1.6.3->tensorboard>=2.2.0->pytorch-lightning) (0.2.8)\n",
            "Requirement already satisfied: rsa<5,>=3.1.4 in /usr/local/lib/python3.7/dist-packages (from google-auth<3,>=1.6.3->tensorboard>=2.2.0->pytorch-lightning) (4.8)\n",
            "Requirement already satisfied: requests-oauthlib>=0.7.0 in /usr/local/lib/python3.7/dist-packages (from google-auth-oauthlib<0.5,>=0.4.1->tensorboard>=2.2.0->pytorch-lightning) (1.3.1)\n",
            "Requirement already satisfied: importlib-metadata>=4.4 in /usr/local/lib/python3.7/dist-packages (from markdown>=2.6.8->tensorboard>=2.2.0->pytorch-lightning) (4.11.3)\n",
            "Requirement already satisfied: zipp>=0.5 in /usr/local/lib/python3.7/dist-packages (from importlib-metadata>=4.4->markdown>=2.6.8->tensorboard>=2.2.0->pytorch-lightning) (3.8.0)\n",
            "Requirement already satisfied: pyasn1<0.5.0,>=0.4.6 in /usr/local/lib/python3.7/dist-packages (from pyasn1-modules>=0.2.1->google-auth<3,>=1.6.3->tensorboard>=2.2.0->pytorch-lightning) (0.4.8)\n",
            "Requirement already satisfied: urllib3!=1.25.0,!=1.25.1,<1.26,>=1.21.1 in /usr/local/lib/python3.7/dist-packages (from requests->fsspec[http]!=2021.06.0,>=2021.05.0->pytorch-lightning) (1.24.3)\n",
            "Requirement already satisfied: chardet<4,>=3.0.2 in /usr/local/lib/python3.7/dist-packages (from requests->fsspec[http]!=2021.06.0,>=2021.05.0->pytorch-lightning) (3.0.4)\n",
            "Requirement already satisfied: idna<3,>=2.5 in /usr/local/lib/python3.7/dist-packages (from requests->fsspec[http]!=2021.06.0,>=2021.05.0->pytorch-lightning) (2.10)\n",
            "Requirement already satisfied: certifi>=2017.4.17 in /usr/local/lib/python3.7/dist-packages (from requests->fsspec[http]!=2021.06.0,>=2021.05.0->pytorch-lightning) (2022.5.18.1)\n",
            "Requirement already satisfied: oauthlib>=3.0.0 in /usr/local/lib/python3.7/dist-packages (from requests-oauthlib>=0.7.0->google-auth-oauthlib<0.5,>=0.4.1->tensorboard>=2.2.0->pytorch-lightning) (3.2.0)\n",
            "Requirement already satisfied: async-timeout<5.0,>=4.0.0a3 in /usr/local/lib/python3.7/dist-packages (from aiohttp->fsspec[http]!=2021.06.0,>=2021.05.0->pytorch-lightning) (4.0.2)\n",
            "Requirement already satisfied: attrs>=17.3.0 in /usr/local/lib/python3.7/dist-packages (from aiohttp->fsspec[http]!=2021.06.0,>=2021.05.0->pytorch-lightning) (21.4.0)\n",
            "Requirement already satisfied: aiosignal>=1.1.2 in /usr/local/lib/python3.7/dist-packages (from aiohttp->fsspec[http]!=2021.06.0,>=2021.05.0->pytorch-lightning) (1.2.0)\n",
            "Requirement already satisfied: yarl<2.0,>=1.0 in /usr/local/lib/python3.7/dist-packages (from aiohttp->fsspec[http]!=2021.06.0,>=2021.05.0->pytorch-lightning) (1.7.2)\n",
            "Requirement already satisfied: multidict<7.0,>=4.5 in /usr/local/lib/python3.7/dist-packages (from aiohttp->fsspec[http]!=2021.06.0,>=2021.05.0->pytorch-lightning) (6.0.2)\n",
            "Requirement already satisfied: charset-normalizer<3.0,>=2.0 in /usr/local/lib/python3.7/dist-packages (from aiohttp->fsspec[http]!=2021.06.0,>=2021.05.0->pytorch-lightning) (2.0.12)\n",
            "Requirement already satisfied: frozenlist>=1.1.1 in /usr/local/lib/python3.7/dist-packages (from aiohttp->fsspec[http]!=2021.06.0,>=2021.05.0->pytorch-lightning) (1.3.0)\n",
            "Requirement already satisfied: asynctest==0.13.0 in /usr/local/lib/python3.7/dist-packages (from aiohttp->fsspec[http]!=2021.06.0,>=2021.05.0->pytorch-lightning) (0.13.0)\n",
            "Looking in indexes: https://pypi.org/simple, https://us-python.pkg.dev/colab-wheels/public/simple/\n",
            "Collecting git+https://github.com/Maluuba/nlg-eval.git@master\n",
            "  Cloning https://github.com/Maluuba/nlg-eval.git (to revision master) to /tmp/pip-req-build-24vh8vpb\n",
            "  Running command git clone -q https://github.com/Maluuba/nlg-eval.git /tmp/pip-req-build-24vh8vpb\n",
            "Requirement already satisfied: nltk>=3.4.5 in /usr/local/lib/python3.7/dist-packages (from nlg-eval==2.3) (3.7)\n",
            "Requirement already satisfied: numpy>=1.11.0 in /usr/local/lib/python3.7/dist-packages (from nlg-eval==2.3) (1.21.6)\n",
            "Requirement already satisfied: psutil>=5.6.2 in /usr/local/lib/python3.7/dist-packages (from nlg-eval==2.3) (5.9.1)\n",
            "Requirement already satisfied: requests>=2.19 in /usr/local/lib/python3.7/dist-packages (from nlg-eval==2.3) (2.23.0)\n",
            "Requirement already satisfied: six>=1.11 in /usr/local/lib/python3.7/dist-packages (from nlg-eval==2.3) (1.15.0)\n",
            "Requirement already satisfied: Cython>=0.28.5 in /usr/local/lib/python3.7/dist-packages (from nlg-eval==2.3) (0.29.30)\n",
            "Requirement already satisfied: scipy>=0.17.0 in /usr/local/lib/python3.7/dist-packages (from nlg-eval==2.3) (1.4.1)\n",
            "Requirement already satisfied: scikit-learn>=0.17 in /usr/local/lib/python3.7/dist-packages (from nlg-eval==2.3) (1.0.2)\n",
            "Requirement already satisfied: gensim~=3.8.3 in /usr/local/lib/python3.7/dist-packages (from nlg-eval==2.3) (3.8.3)\n",
            "Requirement already satisfied: Theano>=0.8.1 in /usr/local/lib/python3.7/dist-packages (from nlg-eval==2.3) (1.0.5)\n",
            "Requirement already satisfied: tqdm>=4.24 in /usr/local/lib/python3.7/dist-packages (from nlg-eval==2.3) (4.64.0)\n",
            "Requirement already satisfied: xdg in /usr/local/lib/python3.7/dist-packages (from nlg-eval==2.3) (5.1.1)\n",
            "Requirement already satisfied: smart-open>=1.8.1 in /usr/local/lib/python3.7/dist-packages (from gensim~=3.8.3->nlg-eval==2.3) (6.0.0)\n",
            "Requirement already satisfied: regex>=2021.8.3 in /usr/local/lib/python3.7/dist-packages (from nltk>=3.4.5->nlg-eval==2.3) (2022.4.24)\n",
            "Requirement already satisfied: joblib in /usr/local/lib/python3.7/dist-packages (from nltk>=3.4.5->nlg-eval==2.3) (1.1.0)\n",
            "Requirement already satisfied: click in /usr/local/lib/python3.7/dist-packages (from nltk>=3.4.5->nlg-eval==2.3) (7.1.2)\n",
            "Requirement already satisfied: certifi>=2017.4.17 in /usr/local/lib/python3.7/dist-packages (from requests>=2.19->nlg-eval==2.3) (2022.5.18.1)\n",
            "Requirement already satisfied: chardet<4,>=3.0.2 in /usr/local/lib/python3.7/dist-packages (from requests>=2.19->nlg-eval==2.3) (3.0.4)\n",
            "Requirement already satisfied: urllib3!=1.25.0,!=1.25.1,<1.26,>=1.21.1 in /usr/local/lib/python3.7/dist-packages (from requests>=2.19->nlg-eval==2.3) (1.24.3)\n",
            "Requirement already satisfied: idna<3,>=2.5 in /usr/local/lib/python3.7/dist-packages (from requests>=2.19->nlg-eval==2.3) (2.10)\n",
            "Requirement already satisfied: threadpoolctl>=2.0.0 in /usr/local/lib/python3.7/dist-packages (from scikit-learn>=0.17->nlg-eval==2.3) (3.1.0)\n"
          ]
        }
      ],
      "source": [
        "!pip install datasets=='1.9.0' \n",
        "!pip install transformers\n",
        "!pip install pytorch-lightning\n",
        "!pip install git+https://github.com/Maluuba/nlg-eval.git@master #evaluation package"
      ]
    },
    {
      "cell_type": "markdown",
      "metadata": {
        "id": "ox4cFCut2zQC"
      },
      "source": [
        "Import the required python packages."
      ]
    },
    {
      "cell_type": "code",
      "execution_count": null,
      "metadata": {
        "id": "f4H8hTyu20jC"
      },
      "outputs": [],
      "source": [
        "from torch.optim import AdamW\n",
        "from torch.utils.data import DataLoader\n",
        "from torch import LongTensor\n",
        "from pytorch_lightning.callbacks import ModelCheckpoint, EarlyStopping\n",
        "from pytorch_lightning import LightningDataModule, LightningModule, Trainer\n",
        "from transformers import AutoTokenizer, AutoModelForSeq2SeqLM\n",
        "from datasets import load_dataset\n",
        "from argparse import ArgumentParser\n",
        "from nlgeval import compute_individual_metrics, NLGEval\n",
        "from google.colab import files, drive\n",
        "from os import listdir, makedirs\n",
        "from os.path import isfile, join\n",
        "from string import punctuation\n",
        "from re import sub\n",
        "import json\n",
        "import copy"
      ]
    },
    {
      "cell_type": "markdown",
      "metadata": {
        "id": "xSGBQyHr3Clq"
      },
      "source": [
        "Set the path to the folder containing the checkpoints and the test dataset. In this case, the folder will be mounted on Google drive, but the path can be set to a local session."
      ]
    },
    {
      "cell_type": "code",
      "execution_count": null,
      "metadata": {
        "id": "WMXYGcSL3HJa",
        "colab": {
          "base_uri": "https://localhost:8080/"
        },
        "outputId": "4f392ebf-6009-40e6-ce0b-a7bb5b84b3fb"
      },
      "outputs": [
        {
          "output_type": "stream",
          "name": "stdout",
          "text": [
            "Drive already mounted at /content/drive; to attempt to forcibly remount, call drive.mount(\"/content/drive\", force_remount=True).\n"
          ]
        }
      ],
      "source": [
        "drive.mount('/content/drive')\n",
        "folder_path = 'drive/MyDrive/Models tfg/'"
      ]
    },
    {
      "cell_type": "markdown",
      "metadata": {
        "id": "2ylxsRuHLiOX"
      },
      "source": [
        "# Model hyperparameters"
      ]
    },
    {
      "cell_type": "markdown",
      "metadata": {
        "id": "9CguTHAEzlQ5"
      },
      "source": [
        "The global variables of the notebook will be defined in this section."
      ]
    },
    {
      "cell_type": "markdown",
      "metadata": {
        "id": "kqoqTbsfzdk5"
      },
      "source": [
        "The next cell specifies whether to train or test the model needs to be performed."
      ]
    },
    {
      "cell_type": "code",
      "execution_count": null,
      "metadata": {
        "id": "tFr5hxELRysx"
      },
      "outputs": [],
      "source": [
        "TRAIN_MODEL = True\n",
        "TEST_MODEL = True"
      ]
    },
    {
      "cell_type": "markdown",
      "metadata": {
        "id": "Gu3htg4yLpY4"
      },
      "source": [
        "Those hyperparameters that are relevant for any model are listed in the following cell. The *PRETRAINED_MODEL* variable indicates which pre-trained model will be used. The different models can be found at *huggingface.com*. Models that have been tried, for instance, are:\n",
        "                 \n",
        "\n",
        "*   'facebook/bart-base'\n",
        "*   't5-small'\n",
        "*   't5-base'\n",
        "*   't5-efficient-base-n14'"
      ]
    },
    {
      "cell_type": "code",
      "execution_count": null,
      "metadata": {
        "id": "NoIOCikD8Ako"
      },
      "outputs": [],
      "source": [
        "PRETRAINED_MODEL = 't5-small'\n",
        "HIGHLIGHT_TOKEN = '[HL]' #token used to highlight the answer inside the context.\n",
        "LEARNING_RATE = 0.0001\n",
        "MAX_INPUT_LENGTH = 512\n",
        "MAX_LABEL_LENGTH = 64"
      ]
    },
    {
      "cell_type": "markdown",
      "metadata": {
        "id": "xgQ_H6JuUxMH"
      },
      "source": [
        "# Load and preprocess Datasets\n"
      ]
    },
    {
      "cell_type": "markdown",
      "metadata": {
        "id": "GLrCF8ulK_P_"
      },
      "source": [
        "The notebook will load the training datasets and perform a basic preprocessing of the data in this section."
      ]
    },
    {
      "cell_type": "markdown",
      "metadata": {
        "id": "0uNkoWb0S7Ll"
      },
      "source": [
        "## Read datasets"
      ]
    },
    {
      "cell_type": "markdown",
      "metadata": {
        "id": "99xGW8dh26-B"
      },
      "source": [
        "Load the train and validation datasets."
      ]
    },
    {
      "cell_type": "code",
      "execution_count": null,
      "metadata": {
        "colab": {
          "base_uri": "https://localhost:8080/",
          "height": 201,
          "referenced_widgets": [
            "75efbd0c023f477ba26f443294a384be",
            "eaf4404c4c1c4ea48a18ac4d3b6fd0fc",
            "f4828bbdc11941cdbf527feff14187f9",
            "63f861ebe28e46c8869cfc3d4442de36",
            "ca04f78b29914bd58c8a6a22163c7df8",
            "5a15df36423b4000a3fb59ded5bd3589",
            "a255e49eef83408d8162ed3a50a92f29",
            "070b334071894405bda0c5cb4b4a6d1d",
            "3cec64dc755143cd95c757a86bb7b07c",
            "f4f2f89333674e4cb403f5fd03e2643b",
            "931d6b6aec6f40048e1c007e11233be5",
            "d4b7261887cc4d47bc1548536ed6e3c6",
            "95041a1cd2ff408d955a9cace3cc63fc",
            "af3f94f1d1d84441aed9e56800e1f055",
            "d64be249831749d29986c730e95eb834",
            "18be3202c4cc473d8a59d9f177c8751a",
            "4366b4c70f764be9a054942a7283d330",
            "7a2dce02f78342b5ab44c928fab95f67",
            "62561a24c6dc4d69a66b80ca9e6f17d3",
            "6246a138b885449484094d8ce645343a",
            "1f18df311a234be58b8b9cd6a8c86e15",
            "facc6e032706406c8fb3ee379db99c62",
            "6b8b3c321de94a978802a55601698b08",
            "e799749230d547f88c835500bc76ebac",
            "2cc71bef6df943478a4e571604455d96",
            "8ea9d0e664e2419da3b64dee4d58879e",
            "1f0bc669695b46ef87f3b8aab7298249",
            "4e4653bdc29345d28703e8da827f5b0a",
            "4403c0ef12d141cc9114953db0b65e2f",
            "6e7ad468dd3745e5a7a1530e6a7160b0",
            "dfe457b218354143bfd3b34eea52c084",
            "5a0d1d64936640019b7237447e4e3008",
            "c8459090a46846069b4d097d09e9c166",
            "732a1f4456a3455295ab9c86ce501100",
            "97e0ceab2c2248a4a3c6869325aee182",
            "aae4f8ac70794ff48329fbdc7fa16d84",
            "3841ba266f5043748539e170c8e5115e",
            "4db086c86722423dbccbb38dfc8a5245",
            "c81b4c2d9b684df5af8ef4554b82e294",
            "2a4fdb36f0ba42fda74cfbf29d53c378",
            "b93df81305354f08a59a161b622b939a",
            "0e72123a772446518ade6b1211780f56",
            "c84ee60a2dcf42469bea9562046e128e",
            "d9b70ee26463448dab24ef913a3aeab4",
            "24d6a84be04c4f39bec901622658ef49",
            "5c3c1482fad94c80a71ab5083b1b9827",
            "1bb6a01a1e27417585f587bfc36f9aac",
            "e71d76382b2f42c3adec50847b22163f",
            "ca10c2a5ab5f407f830dc1daa66de510",
            "cf9a393debf24d8b916e0aa5355565c7",
            "819681d8611941ac97ff876140afc62b",
            "46595589641745b0875ebb7a18b82896",
            "267219e7ce294ea7aba848d671406e09",
            "f0b360ee2e01447c9d0cdb48c79b4d1e",
            "89d2c529b6874ffd9460982b253a7bad",
            "25bdc21156e24dde9fa5042a5c51f087",
            "fe367e4fbacd462992813dadf9850d49",
            "de6e1a37c903469197abb9b5378b4255",
            "b94b40361268427db2317dca36e10e78",
            "3b1653d0280d45599a6bcae1a6a9f1cf",
            "bdc0555ccbdf47498c3086c92cd605c2",
            "7f40cd062e964e8b89cfe2175adfeea8",
            "b6637ec17f4a4fea86f2de74284fe780",
            "607c388bbf354ac1979984329b8e3b15",
            "344bb9282c7f4bdb897b1762b574cedb",
            "4ed2d31dd6264d60a0310e8075a901b6"
          ]
        },
        "id": "OlTeq66q26dx",
        "outputId": "dffdf8d5-dde7-4113-f8a6-d0be542c350c"
      },
      "outputs": [
        {
          "output_type": "display_data",
          "data": {
            "text/plain": [
              "Downloading:   0%|          | 0.00/1.95k [00:00<?, ?B/s]"
            ],
            "application/vnd.jupyter.widget-view+json": {
              "version_major": 2,
              "version_minor": 0,
              "model_id": "75efbd0c023f477ba26f443294a384be"
            }
          },
          "metadata": {}
        },
        {
          "output_type": "display_data",
          "data": {
            "text/plain": [
              "Downloading:   0%|          | 0.00/1.02k [00:00<?, ?B/s]"
            ],
            "application/vnd.jupyter.widget-view+json": {
              "version_major": 2,
              "version_minor": 0,
              "model_id": "d4b7261887cc4d47bc1548536ed6e3c6"
            }
          },
          "metadata": {}
        },
        {
          "output_type": "stream",
          "name": "stdout",
          "text": [
            "Downloading and preparing dataset squad/plain_text (download: 33.51 MiB, generated: 85.63 MiB, post-processed: Unknown size, total: 119.14 MiB) to /root/.cache/huggingface/datasets/squad/plain_text/1.0.0/6b6c4172d0119c74515f44ea0b8262efe4897f2ddb6613e5e915840fdc309c16...\n"
          ]
        },
        {
          "output_type": "display_data",
          "data": {
            "text/plain": [
              "Downloading:   0%|          | 0.00/8.12M [00:00<?, ?B/s]"
            ],
            "application/vnd.jupyter.widget-view+json": {
              "version_major": 2,
              "version_minor": 0,
              "model_id": "6b8b3c321de94a978802a55601698b08"
            }
          },
          "metadata": {}
        },
        {
          "output_type": "display_data",
          "data": {
            "text/plain": [
              "Downloading:   0%|          | 0.00/1.05M [00:00<?, ?B/s]"
            ],
            "application/vnd.jupyter.widget-view+json": {
              "version_major": 2,
              "version_minor": 0,
              "model_id": "732a1f4456a3455295ab9c86ce501100"
            }
          },
          "metadata": {}
        },
        {
          "output_type": "display_data",
          "data": {
            "text/plain": [
              "0 examples [00:00, ? examples/s]"
            ],
            "application/vnd.jupyter.widget-view+json": {
              "version_major": 2,
              "version_minor": 0,
              "model_id": "24d6a84be04c4f39bec901622658ef49"
            }
          },
          "metadata": {}
        },
        {
          "output_type": "display_data",
          "data": {
            "text/plain": [
              "0 examples [00:00, ? examples/s]"
            ],
            "application/vnd.jupyter.widget-view+json": {
              "version_major": 2,
              "version_minor": 0,
              "model_id": "25bdc21156e24dde9fa5042a5c51f087"
            }
          },
          "metadata": {}
        },
        {
          "output_type": "stream",
          "name": "stdout",
          "text": [
            "Dataset squad downloaded and prepared to /root/.cache/huggingface/datasets/squad/plain_text/1.0.0/6b6c4172d0119c74515f44ea0b8262efe4897f2ddb6613e5e915840fdc309c16. Subsequent calls will reuse this data.\n"
          ]
        }
      ],
      "source": [
        "datasets = load_dataset(\"squad\")"
      ]
    },
    {
      "cell_type": "markdown",
      "metadata": {
        "id": "8HP0F5Bx2-kT"
      },
      "source": [
        "Load the test dataset from the folder_path."
      ]
    },
    {
      "cell_type": "code",
      "execution_count": null,
      "metadata": {
        "id": "ZqJ1s2CN2_xq"
      },
      "outputs": [],
      "source": [
        "with open(folder_path + 'test-v2.SQuAD.json', encoding='utf-8') as data:\n",
        "    test = json.load(data)['data']"
      ]
    },
    {
      "cell_type": "markdown",
      "metadata": {
        "id": "Z2AJbc3K42-g"
      },
      "source": [
        "Datasets follow a complex format. Therefore, the next functions simplify them.\n",
        "\n",
        "The datasets will be converted from a json format to a list. Each element of the list is a dataset entry, which is a dictionary with the keys 'context', 'question' and 'answer'. Questions without an answer will be discarded.\n",
        "\n",
        "As a result, the final format is as follows:\n",
        "\n",
        "\n",
        "\n",
        "> **[{'context':context1, 'answer':answer1, 'question':question1}, {'context':context2, 'answer':answer2, 'question':question2},...}]**\n",
        "\n",
        "\n"
      ]
    },
    {
      "cell_type": "code",
      "execution_count": null,
      "metadata": {
        "id": "dAtd3v5Y41Zx"
      },
      "outputs": [],
      "source": [
        "# Transform a SQuAD validation or training dataset from the original format to \n",
        "# a list where each entry looks like:\n",
        "#             {'context':context1, 'answer':answer1, 'question':question1} \n",
        "def transform_dataset_format(dataset):\n",
        "  dataset_aux = []\n",
        "  for data in dataset:\n",
        "      if(len(data['answers'])>0):\n",
        "        dataset_aux.append({\n",
        "            'context':data['context'],\n",
        "            'answers':{\n",
        "                'answer_start' : data['answers']['answer_start'][0],\n",
        "                'text': data['answers']['text'][0]\n",
        "            },\n",
        "            'question':data['question']\n",
        "            })\n",
        "  return dataset_aux\n",
        "\n",
        "# Transform a SQuAD test dataset from the original format to \n",
        "# a list where each entry looks like:\n",
        "#             {'context':context1, 'answer':answer1, 'question':question1} \n",
        "def transform_dataset_format_test(dataset):\n",
        "    dataset_aux = []\n",
        "    for text in dataset:\n",
        "        for paragraph in text['paragraphs']:\n",
        "            for question in paragraph['qas']:\n",
        "                if len(question['answers']) > 0:\n",
        "                    dataset_aux.append({\n",
        "                        'context': paragraph['context'],\n",
        "                        'answers': question['answers'][0],\n",
        "                        'question': question['question']\n",
        "                        })\n",
        "\n",
        "    return dataset_aux"
      ]
    },
    {
      "cell_type": "markdown",
      "metadata": {
        "id": "Cew_wDDa45hh"
      },
      "source": [
        "The next cell transforms the datasets' formats."
      ]
    },
    {
      "cell_type": "code",
      "execution_count": null,
      "metadata": {
        "id": "4mir6GkW47_J"
      },
      "outputs": [],
      "source": [
        "train_dataset = transform_dataset_format(datasets['train'])\n",
        "val_dataset = transform_dataset_format(datasets['validation'])\n",
        "test_dataset = transform_dataset_format_test(test)"
      ]
    },
    {
      "cell_type": "markdown",
      "metadata": {
        "id": "h0W8UDQeDkn0"
      },
      "source": [
        "The main objective of the SQuAD dataset is to train question answering models, not to train question generation models. For this reason, there is a single question for each entry in the dataset.\n",
        "\n",
        "This can pose a problem for evaluating the model. For instance, let the entry of the model be:\n",
        "\n",
        "\n",
        ">* **context**: *Ada Colau, the current mayor of Barcelona, was born in 1974.*\n",
        "* **answer**: *Ada Colau*\n",
        "* **expected_question**: *Who is the current mayor of Barcelona?*\n",
        "\n",
        "But let the question obtained from the model be:\n",
        "\n",
        "> * **obtained_question**: *Who was born in 1974?*\n",
        "\n",
        "Although the obtained question is also correct, it is different from the expected one. Therefore, a metric that only compares these two sentences will give a low value, which is undesired.\n",
        "\n",
        "To avoid this from happening, the next function finds a list of related questions for each entry on the test dataset, by looping through the database to find entries with the same answer. This way, there will be multiple reference questions to compare with for each dataset entry.\n",
        "\n",
        "\n",
        "\n",
        "\n",
        "\n",
        "\n",
        "\n",
        "\n",
        "\n",
        "\n"
      ]
    },
    {
      "cell_type": "code",
      "execution_count": null,
      "metadata": {
        "id": "3Mm10fHtu4bC"
      },
      "outputs": [],
      "source": [
        "# Function that returns a list, where each entry is a set of related questions\n",
        "# to the corresponding entry in the test dataset. The test dataset needs to be \n",
        "# in its original format.\n",
        "def get_related_questions(dataset):\n",
        "\n",
        "    related_questions = []\n",
        "\n",
        "    for text in dataset:\n",
        "        for paragraph in text['paragraphs']:\n",
        "\n",
        "            # For each entry in the dataset.\n",
        "            for question in paragraph['qas']:\n",
        "\n",
        "                # If the question has an answer.\n",
        "                if len(question['answers']) > 0:\n",
        "\n",
        "                    # Add the question to the related_questions set of the current entry.\n",
        "                    questions = {question['question']}\n",
        "\n",
        "                    # Save the possible answers to the question.\n",
        "                    answers = { answer['text'] \n",
        "                               for answer in question['answers']}\n",
        "\n",
        "                    for question2 in paragraph['qas']:\n",
        "                        # Compare with the other entries in the same paragraph.\n",
        "\n",
        "                        # Save the possible answers for the second question.\n",
        "                        if len(question2['answers']) > 0:\n",
        "                            answers2 = { answer['text'] \n",
        "                                        for answer in question2['answers']}\n",
        "                        else:\n",
        "                            answers2 = {answer['text'] \n",
        "                                        for answer in question2['plausible_answers']} \n",
        "\n",
        "                        # If the second questions shares an answer with the \n",
        "                        # first question, add the second question to the \n",
        "                        # related_questions set of the entry.\n",
        "                        if len( set(answers) & set(answers2))>0:\n",
        "                            questions.add(question2['question'])\n",
        "\n",
        "                    related_questions.append(questions)\n",
        "\n",
        "    return related_questions"
      ]
    },
    {
      "cell_type": "markdown",
      "metadata": {
        "id": "tRV_JDATIQCc"
      },
      "source": [
        "Execute the above function."
      ]
    },
    {
      "cell_type": "code",
      "execution_count": null,
      "metadata": {
        "id": "cX6W0EHVu5ah"
      },
      "outputs": [],
      "source": [
        "related_questions = get_related_questions(test)\n",
        "for i in range(len(test_dataset)):\n",
        "  test_dataset[i]['question'] = list(related_questions[i])\n"
      ]
    },
    {
      "cell_type": "markdown",
      "metadata": {
        "id": "GwBeeW7448mZ"
      },
      "source": [
        "For instance, next cell shows an example of a train dataset entry."
      ]
    },
    {
      "cell_type": "code",
      "execution_count": null,
      "metadata": {
        "colab": {
          "base_uri": "https://localhost:8080/"
        },
        "id": "GOyj25ctwM33",
        "outputId": "2291cedf-6087-4193-dad5-229b25e6e00a"
      },
      "outputs": [
        {
          "output_type": "execute_result",
          "data": {
            "text/plain": [
              "{'answers': {'answer_start': 515, 'text': 'Saint Bernadette Soubirous'},\n",
              " 'context': 'Architecturally, the school has a Catholic character. Atop the Main Building\\'s gold dome is a golden statue of the Virgin Mary. Immediately in front of the Main Building and facing it, is a copper statue of Christ with arms upraised with the legend \"Venite Ad Me Omnes\". Next to the Main Building is the Basilica of the Sacred Heart. Immediately behind the basilica is the Grotto, a Marian place of prayer and reflection. It is a replica of the grotto at Lourdes, France where the Virgin Mary reputedly appeared to Saint Bernadette Soubirous in 1858. At the end of the main drive (and in a direct line that connects through 3 statues and the Gold Dome), is a simple, modern stone statue of Mary.',\n",
              " 'question': 'To whom did the Virgin Mary allegedly appear in 1858 in Lourdes France?'}"
            ]
          },
          "metadata": {},
          "execution_count": 12
        }
      ],
      "source": [
        "train_dataset[0]"
      ]
    },
    {
      "cell_type": "markdown",
      "metadata": {
        "id": "O-prJhO2S4qc"
      },
      "source": [
        "## Tokenize Datasets"
      ]
    },
    {
      "cell_type": "markdown",
      "metadata": {
        "id": "B_ToE6_zQork"
      },
      "source": [
        "At this point, the entries of the datasets are dictionaries of strings with the desired format, but it is still needed to tokenize those strings. It is also needed to highlight the answer inside the context using the HIGHLIGHT_TOKEN."
      ]
    },
    {
      "cell_type": "markdown",
      "metadata": {
        "id": "yYgD_3po8Jzh"
      },
      "source": [
        "First, it should exist a function capable of getting a tokenizer. A new token that will highlight the answer inside the token must be defined."
      ]
    },
    {
      "cell_type": "code",
      "execution_count": null,
      "metadata": {
        "id": "AapHv-pr8Ks5"
      },
      "outputs": [],
      "source": [
        "def prepare_tokenizer(pretrained_model):\n",
        "    tokenizer = AutoTokenizer.from_pretrained(pretrained_model, model_max_length=MAX_INPUT_LENGTH)\n",
        "    tokenizer.add_tokens([HIGHLIGHT_TOKEN], special_tokens=True)\n",
        "    return tokenizer"
      ]
    },
    {
      "cell_type": "markdown",
      "metadata": {
        "id": "JjhtK0i3TFeL"
      },
      "source": [
        "The next cell is used to define the tokenize_database function, which tokenizes the given database and leaves it ready to be the input of the transformer."
      ]
    },
    {
      "cell_type": "code",
      "execution_count": null,
      "metadata": {
        "id": "MV7bSxNfSl9K"
      },
      "outputs": [],
      "source": [
        "# Highlight the answer inside the context using the HIGHLIGHT_TOKEN.\n",
        "def highlight_answer(context, answer):\n",
        "    answer_first_character = answer['answer_start']\n",
        "    answer_last_character = answer_first_character + len(answer['text'])\n",
        "\n",
        "    highlighted_context = context[:answer_first_character]\n",
        "    highlighted_context = (highlighted_context + \n",
        "                           HIGHLIGHT_TOKEN + answer['text'] + HIGHLIGHT_TOKEN)\n",
        "    highlighted_context = highlighted_context + context[answer_last_character:]\n",
        "\n",
        "    return highlighted_context\n",
        "\n",
        "# This function retokenizes a pad_token, i.e. if the given token is equal\n",
        "# to the pad_token, it returns the given value. If any other token is given,\n",
        "# it returns the token without any modifications.\n",
        "def retokenize_pad_token( token, pad_token, value):\n",
        "    if token != pad_token:\n",
        "      return token\n",
        "    else:\n",
        "      return value\n",
        "\n",
        "# For the given highlighted_context and label, it prepares the tokenized\n",
        "# input for the transformer.\n",
        "def tokenize_input_train(tokenizer, highlighted_context, label):\n",
        "\n",
        "    # Prepare the input of the transformer.\n",
        "    input = tokenizer(highlighted_context, \n",
        "                      padding='max_length',\n",
        "                      max_length=MAX_INPUT_LENGTH, \n",
        "                      truncation=True, \n",
        "                      add_special_tokens=False)\n",
        "\n",
        "    # Prepare the target of the transformer.\n",
        "    target = tokenizer(label, \n",
        "                       padding='max_length',\n",
        "                       max_length=MAX_LABEL_LENGTH,\n",
        "                       truncation=True,\n",
        "                       add_special_tokens=False)\n",
        "    \n",
        "    # Retokenize the padding tokens.\n",
        "    tokenized_labels = [ retokenize_pad_token(token, tokenizer.pad_token_id, -100) \n",
        "                          for token in target['input_ids']]\n",
        "    \n",
        "    return {\n",
        "        'input_ids': input['input_ids'],\n",
        "        'attention_mask': input['attention_mask'],\n",
        "        'labels': tokenized_labels\n",
        "    }\n",
        "\n",
        "# For the given highlighted_context, it prepares the tokenized\n",
        "# input for the transformer.\n",
        "def tokenize_input_test(tokenizer, highlighted_context):\n",
        "\n",
        "    # Prepare the input of the transformer.\n",
        "    input = tokenizer(highlighted_context, \n",
        "                      padding= False,\n",
        "                      max_length=MAX_INPUT_LENGTH, \n",
        "                      truncation=True, \n",
        "                      add_special_tokens=False)\n",
        "\n",
        "    return {\n",
        "        'input_ids': input['input_ids'],\n",
        "        'attention_mask': input['attention_mask']\n",
        "    }\n",
        "\n",
        "# Given a dict of tokenized inputs for the transformers, it converts them\n",
        "# into torch tensors.\n",
        "def convert_input_to_tensor(input):\n",
        "    for key in input.keys():\n",
        "        input[key] = LongTensor(input[key])\n",
        "\n",
        "# Given an entry of a dataset, it tokenizes it. Depending on the is_test\n",
        "# parameter, a tokenized label or a untokenized question will be returned.\n",
        "def tokenize_entry(entry, is_test, tokenizer):\n",
        "\n",
        "    highlighted_context = highlight_answer(entry['context'], entry['answers'])\n",
        "    \n",
        "    if is_test == False:\n",
        "        input = tokenize_input_train(tokenizer,\n",
        "                                     highlighted_context=highlighted_context,\n",
        "                                     label=entry['question'] + tokenizer.eos_token)\n",
        "        \n",
        "\n",
        "        convert_input_to_tensor(input)\n",
        "\n",
        "        return {'input_ids': input['input_ids'], \n",
        "                'attention_mask': input['attention_mask'],\n",
        "                'labels': input['labels']}\n",
        "    else:\n",
        "        input = tokenize_input_test(tokenizer,\n",
        "                                    highlighted_context=highlighted_context)\n",
        "\n",
        "        convert_input_to_tensor(input)\n",
        "\n",
        "        return {'input_ids': input['input_ids'], \n",
        "                'attention_mask': input['attention_mask'],\n",
        "                'question': entry['question']}\n",
        "\n",
        "# Given a database, it tokenizes each of its entries.\n",
        "def tokenize_database(database, is_test, tokenizer):\n",
        "    tokenized_database = []\n",
        "    for i in range(len(database)):\n",
        "        tokenized_database.append(tokenize_entry(database[i], is_test, tokenizer))\n",
        "    return tokenized_database"
      ]
    },
    {
      "cell_type": "markdown",
      "metadata": {
        "id": "cKRjmdjmYVw_"
      },
      "source": [
        "Get a tokenizer for the pretrained model."
      ]
    },
    {
      "cell_type": "code",
      "execution_count": null,
      "metadata": {
        "id": "gA9Zp9QNG50j"
      },
      "outputs": [],
      "source": [
        "tokenizer = prepare_tokenizer(PRETRAINED_MODEL)"
      ]
    },
    {
      "cell_type": "markdown",
      "metadata": {
        "id": "Gcp4Jlck-wM7"
      },
      "source": [
        "Execute the tokenization of the datasets."
      ]
    },
    {
      "cell_type": "code",
      "execution_count": null,
      "metadata": {
        "id": "yYfknhjZXvWh"
      },
      "outputs": [],
      "source": [
        "tokenized_train_dataset = tokenize_database(train_dataset, False, tokenizer)\n",
        "tokenized_val_dataset = tokenize_database(val_dataset, False, tokenizer)\n",
        "tokenized_test_dataset = tokenize_database(test_dataset, True, tokenizer)"
      ]
    },
    {
      "cell_type": "markdown",
      "metadata": {
        "id": "AKunck9WYYD4"
      },
      "source": [
        "Example of a tokenized entry of the training set."
      ]
    },
    {
      "cell_type": "code",
      "execution_count": null,
      "metadata": {
        "colab": {
          "base_uri": "https://localhost:8080/"
        },
        "id": "zyvDwGa8YakH",
        "outputId": "3b288d30-0e6a-4078-cc65-095c1e6525e5"
      },
      "outputs": [
        {
          "output_type": "execute_result",
          "data": {
            "text/plain": [
              "{'attention_mask': tensor([1, 1, 1, 1, 1, 1, 1, 1, 1, 1, 1, 1, 1, 1, 1, 1, 1, 1, 1, 1, 1, 1, 1, 1,\n",
              "         1, 1, 1, 1, 1, 1, 1, 1, 1, 1, 1, 1, 1, 1, 1, 1, 1, 1, 1, 1, 1, 1, 1, 1,\n",
              "         1, 1, 1, 1, 1, 1, 1, 1, 1, 1, 1, 1, 1, 1, 1, 1, 1, 1, 1, 1, 1, 1, 1, 1,\n",
              "         1, 1, 1, 1, 1, 1, 1, 1, 1, 1, 1, 1, 1, 1, 1, 1, 1, 1, 1, 1, 1, 1, 1, 1,\n",
              "         1, 1, 1, 1, 1, 1, 1, 1, 1, 1, 1, 1, 1, 1, 1, 1, 1, 1, 1, 1, 1, 1, 1, 1,\n",
              "         1, 1, 1, 1, 1, 1, 1, 1, 1, 1, 1, 1, 1, 1, 1, 1, 1, 1, 1, 1, 1, 1, 1, 1,\n",
              "         1, 1, 1, 1, 1, 1, 1, 1, 1, 1, 1, 1, 1, 1, 1, 1, 1, 1, 1, 1, 1, 1, 1, 1,\n",
              "         1, 1, 1, 1, 1, 1, 1, 1, 1, 1, 1, 1, 1, 0, 0, 0, 0, 0, 0, 0, 0, 0, 0, 0,\n",
              "         0, 0, 0, 0, 0, 0, 0, 0, 0, 0, 0, 0, 0, 0, 0, 0, 0, 0, 0, 0, 0, 0, 0, 0,\n",
              "         0, 0, 0, 0, 0, 0, 0, 0, 0, 0, 0, 0, 0, 0, 0, 0, 0, 0, 0, 0, 0, 0, 0, 0,\n",
              "         0, 0, 0, 0, 0, 0, 0, 0, 0, 0, 0, 0, 0, 0, 0, 0, 0, 0, 0, 0, 0, 0, 0, 0,\n",
              "         0, 0, 0, 0, 0, 0, 0, 0, 0, 0, 0, 0, 0, 0, 0, 0, 0, 0, 0, 0, 0, 0, 0, 0,\n",
              "         0, 0, 0, 0, 0, 0, 0, 0, 0, 0, 0, 0, 0, 0, 0, 0, 0, 0, 0, 0, 0, 0, 0, 0,\n",
              "         0, 0, 0, 0, 0, 0, 0, 0, 0, 0, 0, 0, 0, 0, 0, 0, 0, 0, 0, 0, 0, 0, 0, 0,\n",
              "         0, 0, 0, 0, 0, 0, 0, 0, 0, 0, 0, 0, 0, 0, 0, 0, 0, 0, 0, 0, 0, 0, 0, 0,\n",
              "         0, 0, 0, 0, 0, 0, 0, 0, 0, 0, 0, 0, 0, 0, 0, 0, 0, 0, 0, 0, 0, 0, 0, 0,\n",
              "         0, 0, 0, 0, 0, 0, 0, 0, 0, 0, 0, 0, 0, 0, 0, 0, 0, 0, 0, 0, 0, 0, 0, 0,\n",
              "         0, 0, 0, 0, 0, 0, 0, 0, 0, 0, 0, 0, 0, 0, 0, 0, 0, 0, 0, 0, 0, 0, 0, 0,\n",
              "         0, 0, 0, 0, 0, 0, 0, 0, 0, 0, 0, 0, 0, 0, 0, 0, 0, 0, 0, 0, 0, 0, 0, 0,\n",
              "         0, 0, 0, 0, 0, 0, 0, 0, 0, 0, 0, 0, 0, 0, 0, 0, 0, 0, 0, 0, 0, 0, 0, 0,\n",
              "         0, 0, 0, 0, 0, 0, 0, 0, 0, 0, 0, 0, 0, 0, 0, 0, 0, 0, 0, 0, 0, 0, 0, 0,\n",
              "         0, 0, 0, 0, 0, 0, 0, 0]),\n",
              " 'input_ids': tensor([30797,   120,     6,     8,   496,    65,     3,     9,  6502,  1848,\n",
              "             5,    71,  2916,     8,  5140,  5450,    31,     7,  2045, 22161,\n",
              "            19,     3,     9,  7069, 12647,    13,     8, 16823,  3790,     5,\n",
              "             3, 29167,    16,   851,    13,     8,  5140,  5450,    11,  5008,\n",
              "            34,     6,    19,     3,     9,  8658, 12647,    13,  2144,    28,\n",
              "          6026,     3,    76, 24266,    28,     8,  9503,    96,   553,    15,\n",
              "          7980,  1980,  1212, 13285,  1496,  1280,  3021,    12,     8,  5140,\n",
              "          5450,    19,     8, 23711,  2617,    13,     8,     3, 24756,  6219,\n",
              "             5,     3, 29167,  1187,     8, 20605,  2617,    19,     8,  8554,\n",
              "            17,   235,     6,     3,     9, 17535,   286,    13,  7029,    11,\n",
              "          9619,     5,    94,    19,     3,     9, 16455,    13,     8,     3,\n",
              "          3844,    17,   235,    44,   301,  1211,  1395,     6,  1410,   213,\n",
              "             8, 16823,  3790,     3, 28285,    26,   120,  4283,    12, 32100,\n",
              "          2788,  8942,     9,    26,  1954,   264,  8371,  8283, 32100,    16,\n",
              "           507,  3449,     5,   486,     8,   414,    13,     8,   711,  1262,\n",
              "            41,   232,    16,     3,     9,  1223,   689,    24,  1979,     7,\n",
              "           190,   220, 12647,     7,    11,     8,  2540, 10576,    15,   201,\n",
              "            19,     3,     9,   650,     6,   941,  3372, 12647,    13,  3790,\n",
              "             5,     0,     0,     0,     0,     0,     0,     0,     0,     0,\n",
              "             0,     0,     0,     0,     0,     0,     0,     0,     0,     0,\n",
              "             0,     0,     0,     0,     0,     0,     0,     0,     0,     0,\n",
              "             0,     0,     0,     0,     0,     0,     0,     0,     0,     0,\n",
              "             0,     0,     0,     0,     0,     0,     0,     0,     0,     0,\n",
              "             0,     0,     0,     0,     0,     0,     0,     0,     0,     0,\n",
              "             0,     0,     0,     0,     0,     0,     0,     0,     0,     0,\n",
              "             0,     0,     0,     0,     0,     0,     0,     0,     0,     0,\n",
              "             0,     0,     0,     0,     0,     0,     0,     0,     0,     0,\n",
              "             0,     0,     0,     0,     0,     0,     0,     0,     0,     0,\n",
              "             0,     0,     0,     0,     0,     0,     0,     0,     0,     0,\n",
              "             0,     0,     0,     0,     0,     0,     0,     0,     0,     0,\n",
              "             0,     0,     0,     0,     0,     0,     0,     0,     0,     0,\n",
              "             0,     0,     0,     0,     0,     0,     0,     0,     0,     0,\n",
              "             0,     0,     0,     0,     0,     0,     0,     0,     0,     0,\n",
              "             0,     0,     0,     0,     0,     0,     0,     0,     0,     0,\n",
              "             0,     0,     0,     0,     0,     0,     0,     0,     0,     0,\n",
              "             0,     0,     0,     0,     0,     0,     0,     0,     0,     0,\n",
              "             0,     0,     0,     0,     0,     0,     0,     0,     0,     0,\n",
              "             0,     0,     0,     0,     0,     0,     0,     0,     0,     0,\n",
              "             0,     0,     0,     0,     0,     0,     0,     0,     0,     0,\n",
              "             0,     0,     0,     0,     0,     0,     0,     0,     0,     0,\n",
              "             0,     0,     0,     0,     0,     0,     0,     0,     0,     0,\n",
              "             0,     0,     0,     0,     0,     0,     0,     0,     0,     0,\n",
              "             0,     0,     0,     0,     0,     0,     0,     0,     0,     0,\n",
              "             0,     0,     0,     0,     0,     0,     0,     0,     0,     0,\n",
              "             0,     0,     0,     0,     0,     0,     0,     0,     0,     0,\n",
              "             0,     0,     0,     0,     0,     0,     0,     0,     0,     0,\n",
              "             0,     0,     0,     0,     0,     0,     0,     0,     0,     0,\n",
              "             0,     0,     0,     0,     0,     0,     0,     0,     0,     0,\n",
              "             0,     0,     0,     0,     0,     0,     0,     0,     0,     0,\n",
              "             0,     0,     0,     0,     0,     0,     0,     0,     0,     0,\n",
              "             0,     0,     0,     0,     0,     0,     0,     0,     0,     0,\n",
              "             0,     0]),\n",
              " 'labels': tensor([  304,  4068,   410,     8, 16823,  3790,     3, 18280,  2385,    16,\n",
              "           507,  3449,    16,   301,  1211,  1395,  1410,    58,     1,  -100,\n",
              "          -100,  -100,  -100,  -100,  -100,  -100,  -100,  -100,  -100,  -100,\n",
              "          -100,  -100,  -100,  -100,  -100,  -100,  -100,  -100,  -100,  -100,\n",
              "          -100,  -100,  -100,  -100,  -100,  -100,  -100,  -100,  -100,  -100,\n",
              "          -100,  -100,  -100,  -100,  -100,  -100,  -100,  -100,  -100,  -100,\n",
              "          -100,  -100,  -100,  -100])}"
            ]
          },
          "metadata": {},
          "execution_count": 17
        }
      ],
      "source": [
        "tokenized_train_dataset[0]"
      ]
    },
    {
      "cell_type": "markdown",
      "metadata": {
        "id": "LHiZO8nuJK-p"
      },
      "source": [
        "# Pytorch lightning modules"
      ]
    },
    {
      "cell_type": "markdown",
      "metadata": {
        "id": "JVqDVdevJXvR"
      },
      "source": [
        "In order to perform train, test and inference on a model using the pytorch lightning Trainer, two modules must be build:\n",
        "\n",
        "\n",
        "\n",
        "*   **Data Module** : This module performs the task of wrapping the access to the datasets, by storing them and providing methods that return their entries.\n",
        "*   **Model Module** : This module is a wrapper for the different steps that the model needs to perform in each phase of training and test. For instance, it should provide the test_step(), train_step() or forward() functions.\n",
        "\n",
        "Both modules are defined in the subsections below.\n",
        "\n"
      ]
    },
    {
      "cell_type": "markdown",
      "metadata": {
        "id": "wn8ealU7U6Hm"
      },
      "source": [
        "## Data Module\n"
      ]
    },
    {
      "cell_type": "markdown",
      "metadata": {
        "id": "JkXxJ-7TLzBy"
      },
      "source": [
        "In this section, the data module will be defined."
      ]
    },
    {
      "cell_type": "markdown",
      "metadata": {
        "id": "UoUmVdi474wx"
      },
      "source": [
        "First, the next class implements the __getitem__ and __len__ operators for the databases."
      ]
    },
    {
      "cell_type": "code",
      "execution_count": null,
      "metadata": {
        "id": "4zxHy9RdZRM-"
      },
      "outputs": [],
      "source": [
        "class SQuADDataLoader:\n",
        "    def __init__(self, dataset:list, is_test):\n",
        "        self.dataset = dataset\n",
        "        self.is_test = is_test\n",
        "\n",
        "    def __getitem__(self, index):\n",
        "        if self.is_test:\n",
        "            return [self.dataset[index]['input_ids'], \n",
        "            self.dataset[index]['attention_mask'], \n",
        "            self.dataset[index]['question']]\n",
        "        else:\n",
        "            return [self.dataset[index]['input_ids'], \n",
        "            self.dataset[index]['attention_mask'], \n",
        "            self.dataset[index]['labels']]\n",
        "\n",
        "    def __len__(self):\n",
        "        return len(self.dataset)\n"
      ]
    },
    {
      "cell_type": "markdown",
      "metadata": {
        "id": "BhN7s4WL8Fkh"
      },
      "source": [
        "Finally, the next class defines the data module for the pytorch lightning trainer, using the class defined in the cell above to store the databases."
      ]
    },
    {
      "cell_type": "code",
      "execution_count": null,
      "metadata": {
        "id": "JoywO6AN8GkJ"
      },
      "outputs": [],
      "source": [
        "class SQuADDataModule(LightningDataModule):\n",
        "    def __init__(self, train, val, test, batch_size):\n",
        "        super().__init__()\n",
        "        self.batch_size = batch_size\n",
        "\n",
        "        self.train = SQuADDataLoader(train, False)\n",
        "        self.val = SQuADDataLoader(val, False)\n",
        "        self.test = SQuADDataLoader(test, True)\n",
        "\n",
        "    def train_dataloader(self):\n",
        "        return DataLoader(self.train, num_workers=8, batch_size=self.batch_size, shuffle=True)\n",
        "\n",
        "    def val_dataloader(self):\n",
        "        return DataLoader(self.val,num_workers = 8, batch_size=self.batch_size, shuffle=False)\n",
        "\n",
        "    def test_dataloader(self):\n",
        "        return DataLoader(self.test,num_workers = 8, batch_size=1, shuffle=False)"
      ]
    },
    {
      "cell_type": "markdown",
      "metadata": {
        "id": "jjwbFAyiVgQ3"
      },
      "source": [
        "## Model Module\n"
      ]
    },
    {
      "cell_type": "markdown",
      "metadata": {
        "id": "eInlCfLdByEE"
      },
      "source": [
        "In this section, the model module will be defined."
      ]
    },
    {
      "cell_type": "markdown",
      "metadata": {
        "id": "qajIMfsOBz6q"
      },
      "source": [
        "The next class implements the metrics evaluation of an obtained output and a set of expected outputs."
      ]
    },
    {
      "cell_type": "code",
      "execution_count": null,
      "metadata": {
        "id": "J6wYALVWxy83"
      },
      "outputs": [],
      "source": [
        "class evaluator:\n",
        "    def __init__(self, eval):\n",
        "        self.eval = eval\n",
        "        self.total = 0                      # Total number of entries evaluated.\n",
        "        self.total_metrics = {'Bleu_1': 0,  # Summatory of each metric.\n",
        "          'Bleu_2': 0,\n",
        "          'Bleu_3': 0,\n",
        "          'Bleu_4': 0,\n",
        "          'METEOR': 0,\n",
        "          'ROUGE_L': 0} \n",
        "        self.total_exact_match = 0          # Exact match account.\n",
        "\n",
        "    # It updates the total_metrics dict and total_exact_match \n",
        "    # from the given obtained and expected outputs.\n",
        "    def update_total_metrics(self, obtained_output, expected_output):\n",
        "\n",
        "        metrics_dict = self.nlg_eval(obtained_output, expected_output)\n",
        "        exact_match = self.exact_match_score(obtained_output, expected_output)\n",
        "\n",
        "        self.total += 1\n",
        "        self.total_exact_match += exact_match\n",
        "        for key in metrics_dict.keys():\n",
        "            self.total_metrics[key] += metrics_dict[key]\n",
        "\n",
        "    # Return the total metrics stored in the class in form of percentage.\n",
        "    # (By dividing the summatories by the number of evaluated entries).\n",
        "    def get_total_metrics(self):\n",
        "        exact_match = 100.0 * self.total_exact_match / self.total\n",
        "\n",
        "        total_metrics = copy.deepcopy(self.total_metrics)\n",
        "        for key in self.total_metrics.keys():\n",
        "            total_metrics[key] = 100.0 *  self.total_metrics[key] / self.total\n",
        "        total_metrics['exact_match'] = exact_match\n",
        "        \n",
        "        return total_metrics  \n",
        "\n",
        "    # Normalize a question by removing articles, extra whitespaces, camel case\n",
        "    # and punctuation.\n",
        "    def normalize_question(self, question):\n",
        "        # Lower case\n",
        "        normalized_question = question.lower()\n",
        "\n",
        "        # Remove articles\n",
        "        normalized_question = sub(r\"\\b(a|an|the)\\b\", \" \", normalized_question)\n",
        "\n",
        "        # Remove punctuation\n",
        "        normalized_question = \"\".join(c for c in normalized_question \n",
        "                                      if c not in set(punctuation))\n",
        "\n",
        "        # Remove reduntant white spaces.\n",
        "        normalized_question = \" \".join(normalized_question.split())\n",
        "        \n",
        "        return normalized_question\n",
        "\n",
        "    # Returns a metrics_dict containing the metrics that compare the \n",
        "    # obtained_output with the expected_output.\n",
        "    def nlg_eval(self, obtained_output, expected_output):\n",
        "\n",
        "        normalized_obtained_output = self.normalize_question(obtained_output)\n",
        "        normalized_expected_output = []\n",
        "        for quesion in expected_output:\n",
        "            normalized_expected_output.append(self.normalize_question(quesion))\n",
        "\n",
        "        metrics_dict = self.eval.compute_individual_metrics(normalized_expected_output, normalized_obtained_output)\n",
        "        return metrics_dict\n",
        "\n",
        "    # Returns if the obtained_output is exactly equal to a expected_output.\n",
        "    def exact_match_score(self, obtained_output, expected_output):\n",
        "        for question in expected_output:\n",
        "            if self.normalize_question(obtained_output) == self.normalize_question(question):\n",
        "              return 1\n",
        "        return 0"
      ]
    },
    {
      "cell_type": "markdown",
      "metadata": {
        "id": "GegHxtx3CHEh"
      },
      "source": [
        "The next class implements the model module for the pytorch lightning trainer.\n",
        "\n",
        "The test step will predict a question for the given batch input, and then compare them using the evaluator class. After finishing the testing of the model, the metrics will be available via the get_metrics method."
      ]
    },
    {
      "cell_type": "code",
      "execution_count": null,
      "metadata": {
        "id": "4eI7TZNebQ5V"
      },
      "outputs": [],
      "source": [
        "class SQuADModel(LightningModule):\n",
        "    def __init__(self, **kwargs):\n",
        "        super().__init__()\n",
        "\n",
        "        self.tokenizer = tokenizer\n",
        "\n",
        "        self.model = AutoModelForSeq2SeqLM.from_pretrained(PRETRAINED_MODEL)\n",
        "        self.model.resize_token_embeddings(len(self.tokenizer))\n",
        "              \n",
        "        self.evaluator = evaluator(NLGEval(no_glove=True,no_skipthoughts=True))\n",
        "        \n",
        "\n",
        "    def forward(self, input_ids,attention_mask=None,labels=None):\n",
        "        return self.model(input_ids=input_ids,\n",
        "                          attention_mask=attention_mask,\n",
        "                          labels=labels,return_dict=True)\n",
        "    \n",
        "    def training_step(self, batch, batch_idx):\n",
        "        outputs = self(batch[0],batch[1],batch[2])\n",
        "        loss = outputs['loss']\n",
        "        return loss\n",
        "    \n",
        "    def validation_step(self, batch, batch_idx):\n",
        "        outputs = self(batch[0],batch[1],batch[2])\n",
        "        loss = outputs['loss']\n",
        "        self.log('dev_loss',loss)\n",
        "\n",
        "    def test_step(self, batch, batch_idx):\n",
        "        # Read the reference questions.\n",
        "        ref_questions = [question[0] for question in batch[2]]\n",
        "\n",
        "        # Get the outputs for the given input (10 different outputs are returned).\n",
        "        sample_outputs = self.model.generate(\n",
        "            input_ids =  batch[0],\n",
        "            attention_mask = batch[1],\n",
        "            max_length=MAX_INPUT_LENGTH,\n",
        "            no_repeat_ngram_size=3,\n",
        "            num_return_sequences=10\n",
        "        )\n",
        "\n",
        "        # Decode the outputs.\n",
        "        decoded_questions = [self.tokenizer.decode(sample_output, skip_special_tokens=True)\n",
        "                    for sample_output in sample_outputs]\n",
        "\n",
        "        # Compare each output with the reference questions using the ROUGLE_L metric\n",
        "        metrics = [self.evaluator.nlg_eval(decoded_question, ref_questions)['ROUGE_L']\n",
        "                   for decoded_question in decoded_questions]\n",
        "\n",
        "        # Choose the best question according to ROUGE_L.\n",
        "        decoded_question = self.tokenizer.decode(sample_outputs[metrics.index(max(metrics))],\n",
        "                                                skip_special_tokens=True)\n",
        "        \n",
        "        # Update the evaluator metrics using the choosen question.\n",
        "        self.evaluator.update_total_metrics(decoded_question, ref_questions)\n",
        "    \n",
        "    def get_metrics(self):\n",
        "        return self.evaluator.get_total_metrics()\n",
        "\n",
        "    def configure_optimizers(self):\n",
        "        return AdamW(self.parameters(), lr=LEARNING_RATE)  "
      ]
    },
    {
      "cell_type": "markdown",
      "metadata": {
        "id": "dza6LFviVieH"
      },
      "source": [
        "# Define Training Parameters\n"
      ]
    },
    {
      "cell_type": "markdown",
      "metadata": {
        "id": "eb24mZLWDOCh"
      },
      "source": [
        "The next cell defines the training parameters that the pytorch lightning trainer will use during the training of the model, as well as the checkpoint callback."
      ]
    },
    {
      "cell_type": "code",
      "execution_count": null,
      "metadata": {
        "colab": {
          "background_save": true
        },
        "id": "Nt6OxQdD-faZ"
      },
      "outputs": [],
      "source": [
        "# Declare a parser.\n",
        "parent_parser = ArgumentParser(add_help=False)\n",
        "parent_parser = Trainer.add_argparse_args(parent_parser)\n",
        "parser = ArgumentParser(parents=[parent_parser])\n",
        "\n",
        "# Set arguments.\n",
        "parser.set_defaults(\n",
        "    deterministic=True,\n",
        "    max_epochs=1, \n",
        "    gpus=1\n",
        ")\n",
        "args, extra = parser.parse_known_args()\n",
        "\n",
        "# Declare the checpoint callback\n",
        "checkpoint_callback = ModelCheckpoint(\n",
        "     monitor='dev_loss',\n",
        "     dirpath= folder_path + 'checkpoints/',\n",
        "     filename='squad-checkpoint--{loss:.2f}--' + PRETRAINED_MODEL,\n",
        ")"
      ]
    },
    {
      "cell_type": "markdown",
      "metadata": {
        "id": "Ioa2ceTFVk8P"
      },
      "source": [
        "# Training"
      ]
    },
    {
      "cell_type": "markdown",
      "metadata": {
        "id": "EsKnu_0XDsCB"
      },
      "source": [
        "This section is used to perform the training of a model."
      ]
    },
    {
      "cell_type": "markdown",
      "metadata": {
        "id": "-vsf0BP4DwSp"
      },
      "source": [
        "Declare the pytorch lightning trainer."
      ]
    },
    {
      "cell_type": "code",
      "execution_count": null,
      "metadata": {
        "colab": {
          "background_save": true
        },
        "id": "59DrN5qo-kuc",
        "outputId": "3f5359ab-3493-45c5-fb52-6fd9e68fd1c4"
      },
      "outputs": [
        {
          "name": "stderr",
          "output_type": "stream",
          "text": [
            "GPU available: True, used: True\n",
            "TPU available: False, using: 0 TPU cores\n",
            "IPU available: False, using: 0 IPUs\n",
            "HPU available: False, using: 0 HPUs\n"
          ]
        }
      ],
      "source": [
        "trainer = Trainer.from_argparse_args(args,\n",
        "    callbacks=[checkpoint_callback]\n",
        "    )    "
      ]
    },
    {
      "cell_type": "markdown",
      "metadata": {
        "id": "irbDbU0SDzf5"
      },
      "source": [
        "Declare the data and model modules."
      ]
    },
    {
      "cell_type": "code",
      "execution_count": null,
      "metadata": {
        "colab": {
          "background_save": true,
          "referenced_widgets": [
            "a76dbd7dd73f40eca7b17497c45a9eb5"
          ]
        },
        "id": "1zoAG0iS-m9j",
        "outputId": "8c2ececf-523d-48d9-c0e5-c4dad63626cd"
      },
      "outputs": [
        {
          "data": {
            "application/vnd.jupyter.widget-view+json": {
              "model_id": "a76dbd7dd73f40eca7b17497c45a9eb5",
              "version_major": 2,
              "version_minor": 0
            },
            "text/plain": [
              "Downloading:   0%|          | 0.00/231M [00:00<?, ?B/s]"
            ]
          },
          "metadata": {},
          "output_type": "display_data"
        }
      ],
      "source": [
        "model = SQuADModel()\n",
        "data_module = SQuADDataModule(tokenized_train_dataset, tokenized_val_dataset, tokenized_test_dataset, batch_size=32)"
      ]
    },
    {
      "cell_type": "markdown",
      "metadata": {
        "id": "RU0GPFEJD42h"
      },
      "source": [
        "Perform the training of the model. It is possible to train the model from a checkpoint using the ckpt_path parameter of the fit function."
      ]
    },
    {
      "cell_type": "code",
      "execution_count": null,
      "metadata": {
        "colab": {
          "background_save": true,
          "referenced_widgets": [
            "1234022da8d04fd9a72d5301176af9a2",
            "989d2a84d864491e8fb72714c3b5cac7",
            "167b75140cf245f4b3951e848178ca1f",
            "dd6cf40f99b94c2ea51eb899aa906399",
            "bfeaa4d7d6764440aaeb6f9982a9ed93",
            "19e74e6daa9040dfb87bc3feba3436fe",
            "0a2f7d3dfeba415db611fb051a721347"
          ]
        },
        "id": "tZzeK3JO-nyB",
        "outputId": "3f1b1a63-ceac-4c62-8cc5-2fe65e8031d6"
      },
      "outputs": [
        {
          "name": "stderr",
          "output_type": "stream",
          "text": [
            "Missing logger folder: /content/lightning_logs\n",
            "/usr/local/lib/python3.7/dist-packages/pytorch_lightning/callbacks/model_checkpoint.py:611: UserWarning: Checkpoint directory /content/drive/MyDrive/Models tfg/checkpoints exists and is not empty.\n",
            "  rank_zero_warn(f\"Checkpoint directory {dirpath} exists and is not empty.\")\n",
            "LOCAL_RANK: 0 - CUDA_VISIBLE_DEVICES: [0]\n",
            "\n",
            "  | Name  | Type                       | Params\n",
            "-----------------------------------------------------\n",
            "0 | model | T5ForConditionalGeneration | 60.5 M\n",
            "-----------------------------------------------------\n",
            "60.5 M    Trainable params\n",
            "0         Non-trainable params\n",
            "60.5 M    Total params\n",
            "241.971   Total estimated model params size (MB)\n"
          ]
        },
        {
          "data": {
            "application/vnd.jupyter.widget-view+json": {
              "model_id": "1234022da8d04fd9a72d5301176af9a2",
              "version_major": 2,
              "version_minor": 0
            },
            "text/plain": [
              "Sanity Checking: 0it [00:00, ?it/s]"
            ]
          },
          "metadata": {},
          "output_type": "display_data"
        },
        {
          "data": {
            "application/vnd.jupyter.widget-view+json": {
              "model_id": "989d2a84d864491e8fb72714c3b5cac7",
              "version_major": 2,
              "version_minor": 0
            },
            "text/plain": [
              "Training: 0it [00:00, ?it/s]"
            ]
          },
          "metadata": {},
          "output_type": "display_data"
        },
        {
          "data": {
            "application/vnd.jupyter.widget-view+json": {
              "model_id": "167b75140cf245f4b3951e848178ca1f",
              "version_major": 2,
              "version_minor": 0
            },
            "text/plain": [
              "Validation: 0it [00:00, ?it/s]"
            ]
          },
          "metadata": {},
          "output_type": "display_data"
        },
        {
          "data": {
            "application/vnd.jupyter.widget-view+json": {
              "model_id": "dd6cf40f99b94c2ea51eb899aa906399",
              "version_major": 2,
              "version_minor": 0
            },
            "text/plain": [
              "Validation: 0it [00:00, ?it/s]"
            ]
          },
          "metadata": {},
          "output_type": "display_data"
        },
        {
          "data": {
            "application/vnd.jupyter.widget-view+json": {
              "model_id": "bfeaa4d7d6764440aaeb6f9982a9ed93",
              "version_major": 2,
              "version_minor": 0
            },
            "text/plain": [
              "Validation: 0it [00:00, ?it/s]"
            ]
          },
          "metadata": {},
          "output_type": "display_data"
        },
        {
          "data": {
            "application/vnd.jupyter.widget-view+json": {
              "model_id": "19e74e6daa9040dfb87bc3feba3436fe",
              "version_major": 2,
              "version_minor": 0
            },
            "text/plain": [
              "Validation: 0it [00:00, ?it/s]"
            ]
          },
          "metadata": {},
          "output_type": "display_data"
        },
        {
          "data": {
            "application/vnd.jupyter.widget-view+json": {
              "model_id": "0a2f7d3dfeba415db611fb051a721347",
              "version_major": 2,
              "version_minor": 0
            },
            "text/plain": [
              "Validation: 0it [00:00, ?it/s]"
            ]
          },
          "metadata": {},
          "output_type": "display_data"
        }
      ],
      "source": [
        "if TRAIN_MODEL:\n",
        "  trainer.fit(model, data_module)\n",
        "  #trainer.fit(model, data_module, ckpt_path=folder_path + 'checkpoints/squad-questionanswer--epoch00--dev_loss1.36--t5-base.ckpt')"
      ]
    },
    {
      "cell_type": "markdown",
      "metadata": {
        "id": "jxUsTFrVVnBn"
      },
      "source": [
        "# Test"
      ]
    },
    {
      "cell_type": "markdown",
      "metadata": {
        "id": "OLIt-AzdEEwJ"
      },
      "source": [
        "This section is used to perform the testing of a model."
      ]
    },
    {
      "cell_type": "markdown",
      "metadata": {
        "id": "fVWmmCdtJ33t"
      },
      "source": [
        "Find the path to the best checkpoint (according to the dev loss monitor) for the given pre-trained model."
      ]
    },
    {
      "cell_type": "code",
      "execution_count": null,
      "metadata": {
        "id": "scbWfMNxLxMi"
      },
      "outputs": [],
      "source": [
        "# Given a checkpoint name, it returns its loss.\n",
        "def get_checkpoint_loss(checkpoint_name):\n",
        "  loss_text = checkpoint_name.split(\"--\")[1]\n",
        "  loss = loss_text.split(\"loss\")[1]\n",
        "  return float(loss)\n",
        "\n",
        "# Given a checkpoint name, it returns the pre-trained model used.\n",
        "def get_checkpoint_model(checkpoint_name):\n",
        "  model_text = checkpoint_name.split(\"--\")[2]\n",
        "  model = model_text.split(\".\")[0]\n",
        "  return model\n",
        "\n",
        "# Get the list of stored checkpoints.\n",
        "checkpoints = [checkpoint \n",
        "               for checkpoint \n",
        "               in listdir(folder_path + 'checkpoints') \n",
        "               if isfile(join(folder_path + 'checkpoints', checkpoint))]\n",
        "\n",
        "# Get the checkpoints for the desired pre-trained model.\n",
        "model_checkpoints = [checkpoint \n",
        "                     for checkpoint \n",
        "                     in checkpoints \n",
        "                     if get_checkpoint_model(checkpoint) == PRETRAINED_MODEL]\n",
        "\n",
        "# Search the best checkpoint according to the loss.\n",
        "best_checkpoint_path = model_checkpoints[0]\n",
        "best_checkpoint_loss = get_checkpoint_loss(best_checkpoint_path)\n",
        "for i in range(1, len(model_checkpoints)):\n",
        "  checkpoint = model_checkpoints[i]\n",
        "  if get_checkpoint_loss(checkpoint) < best_checkpoint_loss:\n",
        "    best_checkpoint_loss = get_checkpoint_loss(checkpoint)\n",
        "    best_checkpoint_path = checkpoint"
      ]
    },
    {
      "cell_type": "markdown",
      "metadata": {
        "id": "AgOjrcyFEXD4"
      },
      "source": [
        "Perform the testing of the model."
      ]
    },
    {
      "cell_type": "code",
      "execution_count": null,
      "metadata": {
        "colab": {
          "background_save": true
        },
        "id": "Pj97anomPSOT"
      },
      "outputs": [],
      "source": [
        "if TEST_MODEL:\n",
        "  trainer.test(\n",
        "    model=model,\n",
        "    datamodule=data_module,\n",
        "    ckpt_path=folder_path + 'checkpoints/' + best_checkpoint_path\n",
        "    )"
      ]
    },
    {
      "cell_type": "markdown",
      "metadata": {
        "id": "HhKl3rSMEavA"
      },
      "source": [
        "Get the obtained metrics and write them in a file."
      ]
    },
    {
      "cell_type": "code",
      "execution_count": null,
      "metadata": {
        "colab": {
          "background_save": true
        },
        "id": "d7uFvaZdwuUo"
      },
      "outputs": [],
      "source": [
        "if TEST_MODEL:\n",
        "  # Get the metrics of the model.\n",
        "  metrics = model.get_metrics()\n",
        "\n",
        "  # Write the metrics in a file.\n",
        "  metrics_dir = folder_path + 'metrics/'\n",
        "  makedirs(metrics_dir,exist_ok=True)\n",
        "  with open(join(metrics_dir,'metrics_' + 'best_checkpoint_path'[:-5] + '.txt'),\n",
        "            'w',encoding='utf-8') as metrics_f:\n",
        "      metrics_f.write(str(metrics))"
      ]
    },
    {
      "cell_type": "markdown",
      "metadata": {
        "id": "FVQPjdrYVo5G"
      },
      "source": [
        "# Inference"
      ]
    },
    {
      "cell_type": "markdown",
      "metadata": {
        "id": "R-Ypc9ErFkhI"
      },
      "source": [
        "This section is used to perform inference using model."
      ]
    },
    {
      "cell_type": "markdown",
      "metadata": {
        "id": "ydCTTIC_FmsR"
      },
      "source": [
        "Prepare the model using the best checkpoint for the given pre-trained model."
      ]
    },
    {
      "cell_type": "code",
      "execution_count": null,
      "metadata": {
        "colab": {
          "base_uri": "https://localhost:8080/",
          "height": 49,
          "referenced_widgets": [
            "3376572a2780485f8f8987c3def4148c",
            "829b05f91ad84b419da5f0539a1fb686",
            "918d31074ab2455ca226dd2582f4664c",
            "e6a44c68c4b641ed8572df6b05918bc7",
            "857f5c8cbef847df84c495d1994507c3",
            "e119c614d70c4522a790456ac92a93dc",
            "e602dd6d969a4191989e0cbce3fea30c",
            "31d967adfab54e07a8b1cecc92bce949",
            "a7636741b0a44ac699dc2416054eb752",
            "e9afb4fad32b4e84aa915ca7e9af7152",
            "ab71fe85ba9549d9b0080fabecb1e28e"
          ]
        },
        "id": "ag8CovDdYXhA",
        "outputId": "3cc46a25-5b9d-4705-ab4b-1977aa48c6fb"
      },
      "outputs": [
        {
          "output_type": "display_data",
          "data": {
            "text/plain": [
              "Downloading:   0%|          | 0.00/231M [00:00<?, ?B/s]"
            ],
            "application/vnd.jupyter.widget-view+json": {
              "version_major": 2,
              "version_minor": 0,
              "model_id": "3376572a2780485f8f8987c3def4148c"
            }
          },
          "metadata": {}
        }
      ],
      "source": [
        "model = SQuADModel.load_from_checkpoint(folder_path + 'checkpoints/' + best_checkpoint_path)"
      ]
    },
    {
      "cell_type": "markdown",
      "metadata": {
        "id": "-l0BlrXdFzhI"
      },
      "source": [
        "Next function returns the predicted question for the given context, answer and model."
      ]
    },
    {
      "cell_type": "code",
      "execution_count": null,
      "metadata": {
        "id": "HSnJueHb3NzF"
      },
      "outputs": [],
      "source": [
        "def predict(context, answer, model):\n",
        "  # Prepare the input for the model.\n",
        "  answer_start = context.find(answer)\n",
        "  input = {'answers': {'answer_start': 0, 'text': answer},\n",
        " 'context': context,\n",
        " 'question': ''}\n",
        "  tokenized_input = tokenize_entry(input, True, tokenizer)\n",
        "\n",
        "  input_ids = tokenized_input['input_ids'].reshape([1, tokenized_input['input_ids'].size()[0]])\n",
        "  attention_mask = tokenized_input['attention_mask'].reshape([1, tokenized_input['attention_mask'].size()[0]])\n",
        "  \n",
        "  #Use the gpu.\n",
        "  input_ids = input_ids.to(0)\n",
        "  attention_mask = attention_mask.to(0)\n",
        "  model = model.to(0)\n",
        "  \n",
        "  # Get the output of the model.\n",
        "  sample_output = model.model.generate(\n",
        "      input_ids = input_ids,\n",
        "      attention_mask = attention_mask,\n",
        "      max_length=MAX_INPUT_LENGTH,\n",
        "      no_repeat_ngram_size=3,\n",
        "      num_return_sequences=1\n",
        "  )\n",
        "\n",
        "  # Decode the output.\n",
        "  decode_question = model.tokenizer.decode(sample_output[0], skip_special_tokens=True)\n",
        "\n",
        "  return decode_question\n",
        "    "
      ]
    },
    {
      "cell_type": "markdown",
      "metadata": {
        "id": "WYg7J0_XF8Gw"
      },
      "source": [
        "For instance, declare any context and answer."
      ]
    },
    {
      "cell_type": "code",
      "execution_count": null,
      "metadata": {
        "id": "VSfLP6nFBCfv"
      },
      "outputs": [],
      "source": [
        "context = 'The United Kingdom prime minister has spent the afternoon talking to his ministers.'\n",
        "answer = 'The United Kingdom prime minister'"
      ]
    },
    {
      "cell_type": "markdown",
      "metadata": {
        "id": "_RpwgXF9F_2I"
      },
      "source": [
        "Prediction of the model."
      ]
    },
    {
      "cell_type": "code",
      "execution_count": null,
      "metadata": {
        "colab": {
          "base_uri": "https://localhost:8080/",
          "height": 35
        },
        "id": "P3dlshHBAdVU",
        "outputId": "5db626eb-2628-4102-fd21-4e932b74c9ef"
      },
      "outputs": [
        {
          "output_type": "execute_result",
          "data": {
            "text/plain": [
              "'Who has spent the afternoon talking to his ministers?'"
            ],
            "application/vnd.google.colaboratory.intrinsic+json": {
              "type": "string"
            }
          },
          "metadata": {},
          "execution_count": 29
        }
      ],
      "source": [
        "predict(context, answer, model)"
      ]
    },
    {
      "cell_type": "markdown",
      "source": [
        "# OCR Pipeline"
      ],
      "metadata": {
        "id": "lIMPuHvRRd5X"
      }
    },
    {
      "cell_type": "code",
      "source": [
        "!sudo apt install tesseract-ocr\n",
        "\n",
        "!pip install pytesseract\n"
      ],
      "metadata": {
        "id": "rgfIKG4mRi5U"
      },
      "execution_count": null,
      "outputs": []
    },
    {
      "cell_type": "code",
      "source": [
        "import pytesseract\n",
        "import shutil\n",
        "import os\n",
        "import random\n",
        "from PIL import Image\n"
      ],
      "metadata": {
        "id": "opeLo5mERnHN"
      },
      "execution_count": null,
      "outputs": []
    },
    {
      "cell_type": "code",
      "source": [
        "image_path_in_colab='a.jpg'\n",
        "b = Image.open(image_path_in_colab)"
      ],
      "metadata": {
        "id": "TAwL5hGaRvyN"
      },
      "execution_count": null,
      "outputs": []
    },
    {
      "cell_type": "code",
      "source": [
        "extractedInformation = pytesseract.image_to_string(b)\n"
      ],
      "metadata": {
        "id": "HmsL3RA3SRUF"
      },
      "execution_count": null,
      "outputs": []
    },
    {
      "cell_type": "code",
      "source": [
        "extractedInformation = sub(\"\\n\", \" \", extractedInformation)[:-2]"
      ],
      "metadata": {
        "id": "UqumXeHhTgPU"
      },
      "execution_count": null,
      "outputs": []
    },
    {
      "cell_type": "code",
      "source": [
        "extractedInformation"
      ],
      "metadata": {
        "colab": {
          "base_uri": "https://localhost:8080/",
          "height": 71
        },
        "id": "cBb7QNClTTt1",
        "outputId": "44b6b964-a83e-4382-ecfe-fab1b8eca752"
      },
      "execution_count": null,
      "outputs": [
        {
          "output_type": "execute_result",
          "data": {
            "text/plain": [
              "'This is a lot of 12 point text to test the ocr code and see if it works on all types of file format.  The quick brown dog jumped over the lazy fox. The quick brown dog jumped over the lazy fox. The quick brown dog jumped over the lazy fox. The quick brown dog jumped over the lazy fox.'"
            ],
            "application/vnd.google.colaboratory.intrinsic+json": {
              "type": "string"
            }
          },
          "metadata": {},
          "execution_count": 27
        }
      ]
    },
    {
      "cell_type": "code",
      "source": [
        "model = SQuADModel.load_from_checkpoint(folder_path + 'checkpoints/' + best_checkpoint_path)\n",
        "context = extractedInformation\n",
        "answer = 'all types'\n",
        "predict(context, answer, model)"
      ],
      "metadata": {
        "colab": {
          "base_uri": "https://localhost:8080/",
          "height": 35
        },
        "id": "jIYPtjtlUO3N",
        "outputId": "7596915f-07fc-4a7a-f32a-a5231d46adc9"
      },
      "execution_count": null,
      "outputs": [
        {
          "output_type": "execute_result",
          "data": {
            "text/plain": [
              "'What type of 12 point text is used to test the ocr code?'"
            ],
            "application/vnd.google.colaboratory.intrinsic+json": {
              "type": "string"
            }
          },
          "metadata": {},
          "execution_count": 47
        }
      ]
    }
  ],
  "metadata": {
    "accelerator": "GPU",
    "colab": {
      "machine_shape": "hm",
      "name": "QG_Transformers.ipynb",
      "provenance": []
    },
    "kernelspec": {
      "display_name": "Python 3",
      "name": "python3"
    },
    "language_info": {
      "name": "python"
    },
    "widgets": {
      "application/vnd.jupyter.widget-state+json": {
        "75efbd0c023f477ba26f443294a384be": {
          "model_module": "@jupyter-widgets/controls",
          "model_name": "HBoxModel",
          "model_module_version": "1.5.0",
          "state": {
            "_dom_classes": [],
            "_model_module": "@jupyter-widgets/controls",
            "_model_module_version": "1.5.0",
            "_model_name": "HBoxModel",
            "_view_count": null,
            "_view_module": "@jupyter-widgets/controls",
            "_view_module_version": "1.5.0",
            "_view_name": "HBoxView",
            "box_style": "",
            "children": [
              "IPY_MODEL_eaf4404c4c1c4ea48a18ac4d3b6fd0fc",
              "IPY_MODEL_f4828bbdc11941cdbf527feff14187f9",
              "IPY_MODEL_63f861ebe28e46c8869cfc3d4442de36"
            ],
            "layout": "IPY_MODEL_ca04f78b29914bd58c8a6a22163c7df8"
          }
        },
        "eaf4404c4c1c4ea48a18ac4d3b6fd0fc": {
          "model_module": "@jupyter-widgets/controls",
          "model_name": "HTMLModel",
          "model_module_version": "1.5.0",
          "state": {
            "_dom_classes": [],
            "_model_module": "@jupyter-widgets/controls",
            "_model_module_version": "1.5.0",
            "_model_name": "HTMLModel",
            "_view_count": null,
            "_view_module": "@jupyter-widgets/controls",
            "_view_module_version": "1.5.0",
            "_view_name": "HTMLView",
            "description": "",
            "description_tooltip": null,
            "layout": "IPY_MODEL_5a15df36423b4000a3fb59ded5bd3589",
            "placeholder": "​",
            "style": "IPY_MODEL_a255e49eef83408d8162ed3a50a92f29",
            "value": "Downloading: "
          }
        },
        "f4828bbdc11941cdbf527feff14187f9": {
          "model_module": "@jupyter-widgets/controls",
          "model_name": "FloatProgressModel",
          "model_module_version": "1.5.0",
          "state": {
            "_dom_classes": [],
            "_model_module": "@jupyter-widgets/controls",
            "_model_module_version": "1.5.0",
            "_model_name": "FloatProgressModel",
            "_view_count": null,
            "_view_module": "@jupyter-widgets/controls",
            "_view_module_version": "1.5.0",
            "_view_name": "ProgressView",
            "bar_style": "success",
            "description": "",
            "description_tooltip": null,
            "layout": "IPY_MODEL_070b334071894405bda0c5cb4b4a6d1d",
            "max": 1947,
            "min": 0,
            "orientation": "horizontal",
            "style": "IPY_MODEL_3cec64dc755143cd95c757a86bb7b07c",
            "value": 1947
          }
        },
        "63f861ebe28e46c8869cfc3d4442de36": {
          "model_module": "@jupyter-widgets/controls",
          "model_name": "HTMLModel",
          "model_module_version": "1.5.0",
          "state": {
            "_dom_classes": [],
            "_model_module": "@jupyter-widgets/controls",
            "_model_module_version": "1.5.0",
            "_model_name": "HTMLModel",
            "_view_count": null,
            "_view_module": "@jupyter-widgets/controls",
            "_view_module_version": "1.5.0",
            "_view_name": "HTMLView",
            "description": "",
            "description_tooltip": null,
            "layout": "IPY_MODEL_f4f2f89333674e4cb403f5fd03e2643b",
            "placeholder": "​",
            "style": "IPY_MODEL_931d6b6aec6f40048e1c007e11233be5",
            "value": " 5.29k/? [00:00&lt;00:00, 153kB/s]"
          }
        },
        "ca04f78b29914bd58c8a6a22163c7df8": {
          "model_module": "@jupyter-widgets/base",
          "model_name": "LayoutModel",
          "model_module_version": "1.2.0",
          "state": {
            "_model_module": "@jupyter-widgets/base",
            "_model_module_version": "1.2.0",
            "_model_name": "LayoutModel",
            "_view_count": null,
            "_view_module": "@jupyter-widgets/base",
            "_view_module_version": "1.2.0",
            "_view_name": "LayoutView",
            "align_content": null,
            "align_items": null,
            "align_self": null,
            "border": null,
            "bottom": null,
            "display": null,
            "flex": null,
            "flex_flow": null,
            "grid_area": null,
            "grid_auto_columns": null,
            "grid_auto_flow": null,
            "grid_auto_rows": null,
            "grid_column": null,
            "grid_gap": null,
            "grid_row": null,
            "grid_template_areas": null,
            "grid_template_columns": null,
            "grid_template_rows": null,
            "height": null,
            "justify_content": null,
            "justify_items": null,
            "left": null,
            "margin": null,
            "max_height": null,
            "max_width": null,
            "min_height": null,
            "min_width": null,
            "object_fit": null,
            "object_position": null,
            "order": null,
            "overflow": null,
            "overflow_x": null,
            "overflow_y": null,
            "padding": null,
            "right": null,
            "top": null,
            "visibility": null,
            "width": null
          }
        },
        "5a15df36423b4000a3fb59ded5bd3589": {
          "model_module": "@jupyter-widgets/base",
          "model_name": "LayoutModel",
          "model_module_version": "1.2.0",
          "state": {
            "_model_module": "@jupyter-widgets/base",
            "_model_module_version": "1.2.0",
            "_model_name": "LayoutModel",
            "_view_count": null,
            "_view_module": "@jupyter-widgets/base",
            "_view_module_version": "1.2.0",
            "_view_name": "LayoutView",
            "align_content": null,
            "align_items": null,
            "align_self": null,
            "border": null,
            "bottom": null,
            "display": null,
            "flex": null,
            "flex_flow": null,
            "grid_area": null,
            "grid_auto_columns": null,
            "grid_auto_flow": null,
            "grid_auto_rows": null,
            "grid_column": null,
            "grid_gap": null,
            "grid_row": null,
            "grid_template_areas": null,
            "grid_template_columns": null,
            "grid_template_rows": null,
            "height": null,
            "justify_content": null,
            "justify_items": null,
            "left": null,
            "margin": null,
            "max_height": null,
            "max_width": null,
            "min_height": null,
            "min_width": null,
            "object_fit": null,
            "object_position": null,
            "order": null,
            "overflow": null,
            "overflow_x": null,
            "overflow_y": null,
            "padding": null,
            "right": null,
            "top": null,
            "visibility": null,
            "width": null
          }
        },
        "a255e49eef83408d8162ed3a50a92f29": {
          "model_module": "@jupyter-widgets/controls",
          "model_name": "DescriptionStyleModel",
          "model_module_version": "1.5.0",
          "state": {
            "_model_module": "@jupyter-widgets/controls",
            "_model_module_version": "1.5.0",
            "_model_name": "DescriptionStyleModel",
            "_view_count": null,
            "_view_module": "@jupyter-widgets/base",
            "_view_module_version": "1.2.0",
            "_view_name": "StyleView",
            "description_width": ""
          }
        },
        "070b334071894405bda0c5cb4b4a6d1d": {
          "model_module": "@jupyter-widgets/base",
          "model_name": "LayoutModel",
          "model_module_version": "1.2.0",
          "state": {
            "_model_module": "@jupyter-widgets/base",
            "_model_module_version": "1.2.0",
            "_model_name": "LayoutModel",
            "_view_count": null,
            "_view_module": "@jupyter-widgets/base",
            "_view_module_version": "1.2.0",
            "_view_name": "LayoutView",
            "align_content": null,
            "align_items": null,
            "align_self": null,
            "border": null,
            "bottom": null,
            "display": null,
            "flex": null,
            "flex_flow": null,
            "grid_area": null,
            "grid_auto_columns": null,
            "grid_auto_flow": null,
            "grid_auto_rows": null,
            "grid_column": null,
            "grid_gap": null,
            "grid_row": null,
            "grid_template_areas": null,
            "grid_template_columns": null,
            "grid_template_rows": null,
            "height": null,
            "justify_content": null,
            "justify_items": null,
            "left": null,
            "margin": null,
            "max_height": null,
            "max_width": null,
            "min_height": null,
            "min_width": null,
            "object_fit": null,
            "object_position": null,
            "order": null,
            "overflow": null,
            "overflow_x": null,
            "overflow_y": null,
            "padding": null,
            "right": null,
            "top": null,
            "visibility": null,
            "width": null
          }
        },
        "3cec64dc755143cd95c757a86bb7b07c": {
          "model_module": "@jupyter-widgets/controls",
          "model_name": "ProgressStyleModel",
          "model_module_version": "1.5.0",
          "state": {
            "_model_module": "@jupyter-widgets/controls",
            "_model_module_version": "1.5.0",
            "_model_name": "ProgressStyleModel",
            "_view_count": null,
            "_view_module": "@jupyter-widgets/base",
            "_view_module_version": "1.2.0",
            "_view_name": "StyleView",
            "bar_color": null,
            "description_width": ""
          }
        },
        "f4f2f89333674e4cb403f5fd03e2643b": {
          "model_module": "@jupyter-widgets/base",
          "model_name": "LayoutModel",
          "model_module_version": "1.2.0",
          "state": {
            "_model_module": "@jupyter-widgets/base",
            "_model_module_version": "1.2.0",
            "_model_name": "LayoutModel",
            "_view_count": null,
            "_view_module": "@jupyter-widgets/base",
            "_view_module_version": "1.2.0",
            "_view_name": "LayoutView",
            "align_content": null,
            "align_items": null,
            "align_self": null,
            "border": null,
            "bottom": null,
            "display": null,
            "flex": null,
            "flex_flow": null,
            "grid_area": null,
            "grid_auto_columns": null,
            "grid_auto_flow": null,
            "grid_auto_rows": null,
            "grid_column": null,
            "grid_gap": null,
            "grid_row": null,
            "grid_template_areas": null,
            "grid_template_columns": null,
            "grid_template_rows": null,
            "height": null,
            "justify_content": null,
            "justify_items": null,
            "left": null,
            "margin": null,
            "max_height": null,
            "max_width": null,
            "min_height": null,
            "min_width": null,
            "object_fit": null,
            "object_position": null,
            "order": null,
            "overflow": null,
            "overflow_x": null,
            "overflow_y": null,
            "padding": null,
            "right": null,
            "top": null,
            "visibility": null,
            "width": null
          }
        },
        "931d6b6aec6f40048e1c007e11233be5": {
          "model_module": "@jupyter-widgets/controls",
          "model_name": "DescriptionStyleModel",
          "model_module_version": "1.5.0",
          "state": {
            "_model_module": "@jupyter-widgets/controls",
            "_model_module_version": "1.5.0",
            "_model_name": "DescriptionStyleModel",
            "_view_count": null,
            "_view_module": "@jupyter-widgets/base",
            "_view_module_version": "1.2.0",
            "_view_name": "StyleView",
            "description_width": ""
          }
        },
        "d4b7261887cc4d47bc1548536ed6e3c6": {
          "model_module": "@jupyter-widgets/controls",
          "model_name": "HBoxModel",
          "model_module_version": "1.5.0",
          "state": {
            "_dom_classes": [],
            "_model_module": "@jupyter-widgets/controls",
            "_model_module_version": "1.5.0",
            "_model_name": "HBoxModel",
            "_view_count": null,
            "_view_module": "@jupyter-widgets/controls",
            "_view_module_version": "1.5.0",
            "_view_name": "HBoxView",
            "box_style": "",
            "children": [
              "IPY_MODEL_95041a1cd2ff408d955a9cace3cc63fc",
              "IPY_MODEL_af3f94f1d1d84441aed9e56800e1f055",
              "IPY_MODEL_d64be249831749d29986c730e95eb834"
            ],
            "layout": "IPY_MODEL_18be3202c4cc473d8a59d9f177c8751a"
          }
        },
        "95041a1cd2ff408d955a9cace3cc63fc": {
          "model_module": "@jupyter-widgets/controls",
          "model_name": "HTMLModel",
          "model_module_version": "1.5.0",
          "state": {
            "_dom_classes": [],
            "_model_module": "@jupyter-widgets/controls",
            "_model_module_version": "1.5.0",
            "_model_name": "HTMLModel",
            "_view_count": null,
            "_view_module": "@jupyter-widgets/controls",
            "_view_module_version": "1.5.0",
            "_view_name": "HTMLView",
            "description": "",
            "description_tooltip": null,
            "layout": "IPY_MODEL_4366b4c70f764be9a054942a7283d330",
            "placeholder": "​",
            "style": "IPY_MODEL_7a2dce02f78342b5ab44c928fab95f67",
            "value": "Downloading: "
          }
        },
        "af3f94f1d1d84441aed9e56800e1f055": {
          "model_module": "@jupyter-widgets/controls",
          "model_name": "FloatProgressModel",
          "model_module_version": "1.5.0",
          "state": {
            "_dom_classes": [],
            "_model_module": "@jupyter-widgets/controls",
            "_model_module_version": "1.5.0",
            "_model_name": "FloatProgressModel",
            "_view_count": null,
            "_view_module": "@jupyter-widgets/controls",
            "_view_module_version": "1.5.0",
            "_view_name": "ProgressView",
            "bar_style": "success",
            "description": "",
            "description_tooltip": null,
            "layout": "IPY_MODEL_62561a24c6dc4d69a66b80ca9e6f17d3",
            "max": 1021,
            "min": 0,
            "orientation": "horizontal",
            "style": "IPY_MODEL_6246a138b885449484094d8ce645343a",
            "value": 1021
          }
        },
        "d64be249831749d29986c730e95eb834": {
          "model_module": "@jupyter-widgets/controls",
          "model_name": "HTMLModel",
          "model_module_version": "1.5.0",
          "state": {
            "_dom_classes": [],
            "_model_module": "@jupyter-widgets/controls",
            "_model_module_version": "1.5.0",
            "_model_name": "HTMLModel",
            "_view_count": null,
            "_view_module": "@jupyter-widgets/controls",
            "_view_module_version": "1.5.0",
            "_view_name": "HTMLView",
            "description": "",
            "description_tooltip": null,
            "layout": "IPY_MODEL_1f18df311a234be58b8b9cd6a8c86e15",
            "placeholder": "​",
            "style": "IPY_MODEL_facc6e032706406c8fb3ee379db99c62",
            "value": " 2.36k/? [00:00&lt;00:00, 79.9kB/s]"
          }
        },
        "18be3202c4cc473d8a59d9f177c8751a": {
          "model_module": "@jupyter-widgets/base",
          "model_name": "LayoutModel",
          "model_module_version": "1.2.0",
          "state": {
            "_model_module": "@jupyter-widgets/base",
            "_model_module_version": "1.2.0",
            "_model_name": "LayoutModel",
            "_view_count": null,
            "_view_module": "@jupyter-widgets/base",
            "_view_module_version": "1.2.0",
            "_view_name": "LayoutView",
            "align_content": null,
            "align_items": null,
            "align_self": null,
            "border": null,
            "bottom": null,
            "display": null,
            "flex": null,
            "flex_flow": null,
            "grid_area": null,
            "grid_auto_columns": null,
            "grid_auto_flow": null,
            "grid_auto_rows": null,
            "grid_column": null,
            "grid_gap": null,
            "grid_row": null,
            "grid_template_areas": null,
            "grid_template_columns": null,
            "grid_template_rows": null,
            "height": null,
            "justify_content": null,
            "justify_items": null,
            "left": null,
            "margin": null,
            "max_height": null,
            "max_width": null,
            "min_height": null,
            "min_width": null,
            "object_fit": null,
            "object_position": null,
            "order": null,
            "overflow": null,
            "overflow_x": null,
            "overflow_y": null,
            "padding": null,
            "right": null,
            "top": null,
            "visibility": null,
            "width": null
          }
        },
        "4366b4c70f764be9a054942a7283d330": {
          "model_module": "@jupyter-widgets/base",
          "model_name": "LayoutModel",
          "model_module_version": "1.2.0",
          "state": {
            "_model_module": "@jupyter-widgets/base",
            "_model_module_version": "1.2.0",
            "_model_name": "LayoutModel",
            "_view_count": null,
            "_view_module": "@jupyter-widgets/base",
            "_view_module_version": "1.2.0",
            "_view_name": "LayoutView",
            "align_content": null,
            "align_items": null,
            "align_self": null,
            "border": null,
            "bottom": null,
            "display": null,
            "flex": null,
            "flex_flow": null,
            "grid_area": null,
            "grid_auto_columns": null,
            "grid_auto_flow": null,
            "grid_auto_rows": null,
            "grid_column": null,
            "grid_gap": null,
            "grid_row": null,
            "grid_template_areas": null,
            "grid_template_columns": null,
            "grid_template_rows": null,
            "height": null,
            "justify_content": null,
            "justify_items": null,
            "left": null,
            "margin": null,
            "max_height": null,
            "max_width": null,
            "min_height": null,
            "min_width": null,
            "object_fit": null,
            "object_position": null,
            "order": null,
            "overflow": null,
            "overflow_x": null,
            "overflow_y": null,
            "padding": null,
            "right": null,
            "top": null,
            "visibility": null,
            "width": null
          }
        },
        "7a2dce02f78342b5ab44c928fab95f67": {
          "model_module": "@jupyter-widgets/controls",
          "model_name": "DescriptionStyleModel",
          "model_module_version": "1.5.0",
          "state": {
            "_model_module": "@jupyter-widgets/controls",
            "_model_module_version": "1.5.0",
            "_model_name": "DescriptionStyleModel",
            "_view_count": null,
            "_view_module": "@jupyter-widgets/base",
            "_view_module_version": "1.2.0",
            "_view_name": "StyleView",
            "description_width": ""
          }
        },
        "62561a24c6dc4d69a66b80ca9e6f17d3": {
          "model_module": "@jupyter-widgets/base",
          "model_name": "LayoutModel",
          "model_module_version": "1.2.0",
          "state": {
            "_model_module": "@jupyter-widgets/base",
            "_model_module_version": "1.2.0",
            "_model_name": "LayoutModel",
            "_view_count": null,
            "_view_module": "@jupyter-widgets/base",
            "_view_module_version": "1.2.0",
            "_view_name": "LayoutView",
            "align_content": null,
            "align_items": null,
            "align_self": null,
            "border": null,
            "bottom": null,
            "display": null,
            "flex": null,
            "flex_flow": null,
            "grid_area": null,
            "grid_auto_columns": null,
            "grid_auto_flow": null,
            "grid_auto_rows": null,
            "grid_column": null,
            "grid_gap": null,
            "grid_row": null,
            "grid_template_areas": null,
            "grid_template_columns": null,
            "grid_template_rows": null,
            "height": null,
            "justify_content": null,
            "justify_items": null,
            "left": null,
            "margin": null,
            "max_height": null,
            "max_width": null,
            "min_height": null,
            "min_width": null,
            "object_fit": null,
            "object_position": null,
            "order": null,
            "overflow": null,
            "overflow_x": null,
            "overflow_y": null,
            "padding": null,
            "right": null,
            "top": null,
            "visibility": null,
            "width": null
          }
        },
        "6246a138b885449484094d8ce645343a": {
          "model_module": "@jupyter-widgets/controls",
          "model_name": "ProgressStyleModel",
          "model_module_version": "1.5.0",
          "state": {
            "_model_module": "@jupyter-widgets/controls",
            "_model_module_version": "1.5.0",
            "_model_name": "ProgressStyleModel",
            "_view_count": null,
            "_view_module": "@jupyter-widgets/base",
            "_view_module_version": "1.2.0",
            "_view_name": "StyleView",
            "bar_color": null,
            "description_width": ""
          }
        },
        "1f18df311a234be58b8b9cd6a8c86e15": {
          "model_module": "@jupyter-widgets/base",
          "model_name": "LayoutModel",
          "model_module_version": "1.2.0",
          "state": {
            "_model_module": "@jupyter-widgets/base",
            "_model_module_version": "1.2.0",
            "_model_name": "LayoutModel",
            "_view_count": null,
            "_view_module": "@jupyter-widgets/base",
            "_view_module_version": "1.2.0",
            "_view_name": "LayoutView",
            "align_content": null,
            "align_items": null,
            "align_self": null,
            "border": null,
            "bottom": null,
            "display": null,
            "flex": null,
            "flex_flow": null,
            "grid_area": null,
            "grid_auto_columns": null,
            "grid_auto_flow": null,
            "grid_auto_rows": null,
            "grid_column": null,
            "grid_gap": null,
            "grid_row": null,
            "grid_template_areas": null,
            "grid_template_columns": null,
            "grid_template_rows": null,
            "height": null,
            "justify_content": null,
            "justify_items": null,
            "left": null,
            "margin": null,
            "max_height": null,
            "max_width": null,
            "min_height": null,
            "min_width": null,
            "object_fit": null,
            "object_position": null,
            "order": null,
            "overflow": null,
            "overflow_x": null,
            "overflow_y": null,
            "padding": null,
            "right": null,
            "top": null,
            "visibility": null,
            "width": null
          }
        },
        "facc6e032706406c8fb3ee379db99c62": {
          "model_module": "@jupyter-widgets/controls",
          "model_name": "DescriptionStyleModel",
          "model_module_version": "1.5.0",
          "state": {
            "_model_module": "@jupyter-widgets/controls",
            "_model_module_version": "1.5.0",
            "_model_name": "DescriptionStyleModel",
            "_view_count": null,
            "_view_module": "@jupyter-widgets/base",
            "_view_module_version": "1.2.0",
            "_view_name": "StyleView",
            "description_width": ""
          }
        },
        "6b8b3c321de94a978802a55601698b08": {
          "model_module": "@jupyter-widgets/controls",
          "model_name": "HBoxModel",
          "model_module_version": "1.5.0",
          "state": {
            "_dom_classes": [],
            "_model_module": "@jupyter-widgets/controls",
            "_model_module_version": "1.5.0",
            "_model_name": "HBoxModel",
            "_view_count": null,
            "_view_module": "@jupyter-widgets/controls",
            "_view_module_version": "1.5.0",
            "_view_name": "HBoxView",
            "box_style": "",
            "children": [
              "IPY_MODEL_e799749230d547f88c835500bc76ebac",
              "IPY_MODEL_2cc71bef6df943478a4e571604455d96",
              "IPY_MODEL_8ea9d0e664e2419da3b64dee4d58879e"
            ],
            "layout": "IPY_MODEL_1f0bc669695b46ef87f3b8aab7298249"
          }
        },
        "e799749230d547f88c835500bc76ebac": {
          "model_module": "@jupyter-widgets/controls",
          "model_name": "HTMLModel",
          "model_module_version": "1.5.0",
          "state": {
            "_dom_classes": [],
            "_model_module": "@jupyter-widgets/controls",
            "_model_module_version": "1.5.0",
            "_model_name": "HTMLModel",
            "_view_count": null,
            "_view_module": "@jupyter-widgets/controls",
            "_view_module_version": "1.5.0",
            "_view_name": "HTMLView",
            "description": "",
            "description_tooltip": null,
            "layout": "IPY_MODEL_4e4653bdc29345d28703e8da827f5b0a",
            "placeholder": "​",
            "style": "IPY_MODEL_4403c0ef12d141cc9114953db0b65e2f",
            "value": "Downloading: "
          }
        },
        "2cc71bef6df943478a4e571604455d96": {
          "model_module": "@jupyter-widgets/controls",
          "model_name": "FloatProgressModel",
          "model_module_version": "1.5.0",
          "state": {
            "_dom_classes": [],
            "_model_module": "@jupyter-widgets/controls",
            "_model_module_version": "1.5.0",
            "_model_name": "FloatProgressModel",
            "_view_count": null,
            "_view_module": "@jupyter-widgets/controls",
            "_view_module_version": "1.5.0",
            "_view_name": "ProgressView",
            "bar_style": "success",
            "description": "",
            "description_tooltip": null,
            "layout": "IPY_MODEL_6e7ad468dd3745e5a7a1530e6a7160b0",
            "max": 8116577,
            "min": 0,
            "orientation": "horizontal",
            "style": "IPY_MODEL_dfe457b218354143bfd3b34eea52c084",
            "value": 8116577
          }
        },
        "8ea9d0e664e2419da3b64dee4d58879e": {
          "model_module": "@jupyter-widgets/controls",
          "model_name": "HTMLModel",
          "model_module_version": "1.5.0",
          "state": {
            "_dom_classes": [],
            "_model_module": "@jupyter-widgets/controls",
            "_model_module_version": "1.5.0",
            "_model_name": "HTMLModel",
            "_view_count": null,
            "_view_module": "@jupyter-widgets/controls",
            "_view_module_version": "1.5.0",
            "_view_name": "HTMLView",
            "description": "",
            "description_tooltip": null,
            "layout": "IPY_MODEL_5a0d1d64936640019b7237447e4e3008",
            "placeholder": "​",
            "style": "IPY_MODEL_c8459090a46846069b4d097d09e9c166",
            "value": " 30.3M/? [00:00&lt;00:00, 60.6MB/s]"
          }
        },
        "1f0bc669695b46ef87f3b8aab7298249": {
          "model_module": "@jupyter-widgets/base",
          "model_name": "LayoutModel",
          "model_module_version": "1.2.0",
          "state": {
            "_model_module": "@jupyter-widgets/base",
            "_model_module_version": "1.2.0",
            "_model_name": "LayoutModel",
            "_view_count": null,
            "_view_module": "@jupyter-widgets/base",
            "_view_module_version": "1.2.0",
            "_view_name": "LayoutView",
            "align_content": null,
            "align_items": null,
            "align_self": null,
            "border": null,
            "bottom": null,
            "display": null,
            "flex": null,
            "flex_flow": null,
            "grid_area": null,
            "grid_auto_columns": null,
            "grid_auto_flow": null,
            "grid_auto_rows": null,
            "grid_column": null,
            "grid_gap": null,
            "grid_row": null,
            "grid_template_areas": null,
            "grid_template_columns": null,
            "grid_template_rows": null,
            "height": null,
            "justify_content": null,
            "justify_items": null,
            "left": null,
            "margin": null,
            "max_height": null,
            "max_width": null,
            "min_height": null,
            "min_width": null,
            "object_fit": null,
            "object_position": null,
            "order": null,
            "overflow": null,
            "overflow_x": null,
            "overflow_y": null,
            "padding": null,
            "right": null,
            "top": null,
            "visibility": null,
            "width": null
          }
        },
        "4e4653bdc29345d28703e8da827f5b0a": {
          "model_module": "@jupyter-widgets/base",
          "model_name": "LayoutModel",
          "model_module_version": "1.2.0",
          "state": {
            "_model_module": "@jupyter-widgets/base",
            "_model_module_version": "1.2.0",
            "_model_name": "LayoutModel",
            "_view_count": null,
            "_view_module": "@jupyter-widgets/base",
            "_view_module_version": "1.2.0",
            "_view_name": "LayoutView",
            "align_content": null,
            "align_items": null,
            "align_self": null,
            "border": null,
            "bottom": null,
            "display": null,
            "flex": null,
            "flex_flow": null,
            "grid_area": null,
            "grid_auto_columns": null,
            "grid_auto_flow": null,
            "grid_auto_rows": null,
            "grid_column": null,
            "grid_gap": null,
            "grid_row": null,
            "grid_template_areas": null,
            "grid_template_columns": null,
            "grid_template_rows": null,
            "height": null,
            "justify_content": null,
            "justify_items": null,
            "left": null,
            "margin": null,
            "max_height": null,
            "max_width": null,
            "min_height": null,
            "min_width": null,
            "object_fit": null,
            "object_position": null,
            "order": null,
            "overflow": null,
            "overflow_x": null,
            "overflow_y": null,
            "padding": null,
            "right": null,
            "top": null,
            "visibility": null,
            "width": null
          }
        },
        "4403c0ef12d141cc9114953db0b65e2f": {
          "model_module": "@jupyter-widgets/controls",
          "model_name": "DescriptionStyleModel",
          "model_module_version": "1.5.0",
          "state": {
            "_model_module": "@jupyter-widgets/controls",
            "_model_module_version": "1.5.0",
            "_model_name": "DescriptionStyleModel",
            "_view_count": null,
            "_view_module": "@jupyter-widgets/base",
            "_view_module_version": "1.2.0",
            "_view_name": "StyleView",
            "description_width": ""
          }
        },
        "6e7ad468dd3745e5a7a1530e6a7160b0": {
          "model_module": "@jupyter-widgets/base",
          "model_name": "LayoutModel",
          "model_module_version": "1.2.0",
          "state": {
            "_model_module": "@jupyter-widgets/base",
            "_model_module_version": "1.2.0",
            "_model_name": "LayoutModel",
            "_view_count": null,
            "_view_module": "@jupyter-widgets/base",
            "_view_module_version": "1.2.0",
            "_view_name": "LayoutView",
            "align_content": null,
            "align_items": null,
            "align_self": null,
            "border": null,
            "bottom": null,
            "display": null,
            "flex": null,
            "flex_flow": null,
            "grid_area": null,
            "grid_auto_columns": null,
            "grid_auto_flow": null,
            "grid_auto_rows": null,
            "grid_column": null,
            "grid_gap": null,
            "grid_row": null,
            "grid_template_areas": null,
            "grid_template_columns": null,
            "grid_template_rows": null,
            "height": null,
            "justify_content": null,
            "justify_items": null,
            "left": null,
            "margin": null,
            "max_height": null,
            "max_width": null,
            "min_height": null,
            "min_width": null,
            "object_fit": null,
            "object_position": null,
            "order": null,
            "overflow": null,
            "overflow_x": null,
            "overflow_y": null,
            "padding": null,
            "right": null,
            "top": null,
            "visibility": null,
            "width": null
          }
        },
        "dfe457b218354143bfd3b34eea52c084": {
          "model_module": "@jupyter-widgets/controls",
          "model_name": "ProgressStyleModel",
          "model_module_version": "1.5.0",
          "state": {
            "_model_module": "@jupyter-widgets/controls",
            "_model_module_version": "1.5.0",
            "_model_name": "ProgressStyleModel",
            "_view_count": null,
            "_view_module": "@jupyter-widgets/base",
            "_view_module_version": "1.2.0",
            "_view_name": "StyleView",
            "bar_color": null,
            "description_width": ""
          }
        },
        "5a0d1d64936640019b7237447e4e3008": {
          "model_module": "@jupyter-widgets/base",
          "model_name": "LayoutModel",
          "model_module_version": "1.2.0",
          "state": {
            "_model_module": "@jupyter-widgets/base",
            "_model_module_version": "1.2.0",
            "_model_name": "LayoutModel",
            "_view_count": null,
            "_view_module": "@jupyter-widgets/base",
            "_view_module_version": "1.2.0",
            "_view_name": "LayoutView",
            "align_content": null,
            "align_items": null,
            "align_self": null,
            "border": null,
            "bottom": null,
            "display": null,
            "flex": null,
            "flex_flow": null,
            "grid_area": null,
            "grid_auto_columns": null,
            "grid_auto_flow": null,
            "grid_auto_rows": null,
            "grid_column": null,
            "grid_gap": null,
            "grid_row": null,
            "grid_template_areas": null,
            "grid_template_columns": null,
            "grid_template_rows": null,
            "height": null,
            "justify_content": null,
            "justify_items": null,
            "left": null,
            "margin": null,
            "max_height": null,
            "max_width": null,
            "min_height": null,
            "min_width": null,
            "object_fit": null,
            "object_position": null,
            "order": null,
            "overflow": null,
            "overflow_x": null,
            "overflow_y": null,
            "padding": null,
            "right": null,
            "top": null,
            "visibility": null,
            "width": null
          }
        },
        "c8459090a46846069b4d097d09e9c166": {
          "model_module": "@jupyter-widgets/controls",
          "model_name": "DescriptionStyleModel",
          "model_module_version": "1.5.0",
          "state": {
            "_model_module": "@jupyter-widgets/controls",
            "_model_module_version": "1.5.0",
            "_model_name": "DescriptionStyleModel",
            "_view_count": null,
            "_view_module": "@jupyter-widgets/base",
            "_view_module_version": "1.2.0",
            "_view_name": "StyleView",
            "description_width": ""
          }
        },
        "732a1f4456a3455295ab9c86ce501100": {
          "model_module": "@jupyter-widgets/controls",
          "model_name": "HBoxModel",
          "model_module_version": "1.5.0",
          "state": {
            "_dom_classes": [],
            "_model_module": "@jupyter-widgets/controls",
            "_model_module_version": "1.5.0",
            "_model_name": "HBoxModel",
            "_view_count": null,
            "_view_module": "@jupyter-widgets/controls",
            "_view_module_version": "1.5.0",
            "_view_name": "HBoxView",
            "box_style": "",
            "children": [
              "IPY_MODEL_97e0ceab2c2248a4a3c6869325aee182",
              "IPY_MODEL_aae4f8ac70794ff48329fbdc7fa16d84",
              "IPY_MODEL_3841ba266f5043748539e170c8e5115e"
            ],
            "layout": "IPY_MODEL_4db086c86722423dbccbb38dfc8a5245"
          }
        },
        "97e0ceab2c2248a4a3c6869325aee182": {
          "model_module": "@jupyter-widgets/controls",
          "model_name": "HTMLModel",
          "model_module_version": "1.5.0",
          "state": {
            "_dom_classes": [],
            "_model_module": "@jupyter-widgets/controls",
            "_model_module_version": "1.5.0",
            "_model_name": "HTMLModel",
            "_view_count": null,
            "_view_module": "@jupyter-widgets/controls",
            "_view_module_version": "1.5.0",
            "_view_name": "HTMLView",
            "description": "",
            "description_tooltip": null,
            "layout": "IPY_MODEL_c81b4c2d9b684df5af8ef4554b82e294",
            "placeholder": "​",
            "style": "IPY_MODEL_2a4fdb36f0ba42fda74cfbf29d53c378",
            "value": "Downloading: "
          }
        },
        "aae4f8ac70794ff48329fbdc7fa16d84": {
          "model_module": "@jupyter-widgets/controls",
          "model_name": "FloatProgressModel",
          "model_module_version": "1.5.0",
          "state": {
            "_dom_classes": [],
            "_model_module": "@jupyter-widgets/controls",
            "_model_module_version": "1.5.0",
            "_model_name": "FloatProgressModel",
            "_view_count": null,
            "_view_module": "@jupyter-widgets/controls",
            "_view_module_version": "1.5.0",
            "_view_name": "ProgressView",
            "bar_style": "success",
            "description": "",
            "description_tooltip": null,
            "layout": "IPY_MODEL_b93df81305354f08a59a161b622b939a",
            "max": 1054280,
            "min": 0,
            "orientation": "horizontal",
            "style": "IPY_MODEL_0e72123a772446518ade6b1211780f56",
            "value": 1054280
          }
        },
        "3841ba266f5043748539e170c8e5115e": {
          "model_module": "@jupyter-widgets/controls",
          "model_name": "HTMLModel",
          "model_module_version": "1.5.0",
          "state": {
            "_dom_classes": [],
            "_model_module": "@jupyter-widgets/controls",
            "_model_module_version": "1.5.0",
            "_model_name": "HTMLModel",
            "_view_count": null,
            "_view_module": "@jupyter-widgets/controls",
            "_view_module_version": "1.5.0",
            "_view_name": "HTMLView",
            "description": "",
            "description_tooltip": null,
            "layout": "IPY_MODEL_c84ee60a2dcf42469bea9562046e128e",
            "placeholder": "​",
            "style": "IPY_MODEL_d9b70ee26463448dab24ef913a3aeab4",
            "value": " 4.85M/? [00:00&lt;00:00, 44.1MB/s]"
          }
        },
        "4db086c86722423dbccbb38dfc8a5245": {
          "model_module": "@jupyter-widgets/base",
          "model_name": "LayoutModel",
          "model_module_version": "1.2.0",
          "state": {
            "_model_module": "@jupyter-widgets/base",
            "_model_module_version": "1.2.0",
            "_model_name": "LayoutModel",
            "_view_count": null,
            "_view_module": "@jupyter-widgets/base",
            "_view_module_version": "1.2.0",
            "_view_name": "LayoutView",
            "align_content": null,
            "align_items": null,
            "align_self": null,
            "border": null,
            "bottom": null,
            "display": null,
            "flex": null,
            "flex_flow": null,
            "grid_area": null,
            "grid_auto_columns": null,
            "grid_auto_flow": null,
            "grid_auto_rows": null,
            "grid_column": null,
            "grid_gap": null,
            "grid_row": null,
            "grid_template_areas": null,
            "grid_template_columns": null,
            "grid_template_rows": null,
            "height": null,
            "justify_content": null,
            "justify_items": null,
            "left": null,
            "margin": null,
            "max_height": null,
            "max_width": null,
            "min_height": null,
            "min_width": null,
            "object_fit": null,
            "object_position": null,
            "order": null,
            "overflow": null,
            "overflow_x": null,
            "overflow_y": null,
            "padding": null,
            "right": null,
            "top": null,
            "visibility": null,
            "width": null
          }
        },
        "c81b4c2d9b684df5af8ef4554b82e294": {
          "model_module": "@jupyter-widgets/base",
          "model_name": "LayoutModel",
          "model_module_version": "1.2.0",
          "state": {
            "_model_module": "@jupyter-widgets/base",
            "_model_module_version": "1.2.0",
            "_model_name": "LayoutModel",
            "_view_count": null,
            "_view_module": "@jupyter-widgets/base",
            "_view_module_version": "1.2.0",
            "_view_name": "LayoutView",
            "align_content": null,
            "align_items": null,
            "align_self": null,
            "border": null,
            "bottom": null,
            "display": null,
            "flex": null,
            "flex_flow": null,
            "grid_area": null,
            "grid_auto_columns": null,
            "grid_auto_flow": null,
            "grid_auto_rows": null,
            "grid_column": null,
            "grid_gap": null,
            "grid_row": null,
            "grid_template_areas": null,
            "grid_template_columns": null,
            "grid_template_rows": null,
            "height": null,
            "justify_content": null,
            "justify_items": null,
            "left": null,
            "margin": null,
            "max_height": null,
            "max_width": null,
            "min_height": null,
            "min_width": null,
            "object_fit": null,
            "object_position": null,
            "order": null,
            "overflow": null,
            "overflow_x": null,
            "overflow_y": null,
            "padding": null,
            "right": null,
            "top": null,
            "visibility": null,
            "width": null
          }
        },
        "2a4fdb36f0ba42fda74cfbf29d53c378": {
          "model_module": "@jupyter-widgets/controls",
          "model_name": "DescriptionStyleModel",
          "model_module_version": "1.5.0",
          "state": {
            "_model_module": "@jupyter-widgets/controls",
            "_model_module_version": "1.5.0",
            "_model_name": "DescriptionStyleModel",
            "_view_count": null,
            "_view_module": "@jupyter-widgets/base",
            "_view_module_version": "1.2.0",
            "_view_name": "StyleView",
            "description_width": ""
          }
        },
        "b93df81305354f08a59a161b622b939a": {
          "model_module": "@jupyter-widgets/base",
          "model_name": "LayoutModel",
          "model_module_version": "1.2.0",
          "state": {
            "_model_module": "@jupyter-widgets/base",
            "_model_module_version": "1.2.0",
            "_model_name": "LayoutModel",
            "_view_count": null,
            "_view_module": "@jupyter-widgets/base",
            "_view_module_version": "1.2.0",
            "_view_name": "LayoutView",
            "align_content": null,
            "align_items": null,
            "align_self": null,
            "border": null,
            "bottom": null,
            "display": null,
            "flex": null,
            "flex_flow": null,
            "grid_area": null,
            "grid_auto_columns": null,
            "grid_auto_flow": null,
            "grid_auto_rows": null,
            "grid_column": null,
            "grid_gap": null,
            "grid_row": null,
            "grid_template_areas": null,
            "grid_template_columns": null,
            "grid_template_rows": null,
            "height": null,
            "justify_content": null,
            "justify_items": null,
            "left": null,
            "margin": null,
            "max_height": null,
            "max_width": null,
            "min_height": null,
            "min_width": null,
            "object_fit": null,
            "object_position": null,
            "order": null,
            "overflow": null,
            "overflow_x": null,
            "overflow_y": null,
            "padding": null,
            "right": null,
            "top": null,
            "visibility": null,
            "width": null
          }
        },
        "0e72123a772446518ade6b1211780f56": {
          "model_module": "@jupyter-widgets/controls",
          "model_name": "ProgressStyleModel",
          "model_module_version": "1.5.0",
          "state": {
            "_model_module": "@jupyter-widgets/controls",
            "_model_module_version": "1.5.0",
            "_model_name": "ProgressStyleModel",
            "_view_count": null,
            "_view_module": "@jupyter-widgets/base",
            "_view_module_version": "1.2.0",
            "_view_name": "StyleView",
            "bar_color": null,
            "description_width": ""
          }
        },
        "c84ee60a2dcf42469bea9562046e128e": {
          "model_module": "@jupyter-widgets/base",
          "model_name": "LayoutModel",
          "model_module_version": "1.2.0",
          "state": {
            "_model_module": "@jupyter-widgets/base",
            "_model_module_version": "1.2.0",
            "_model_name": "LayoutModel",
            "_view_count": null,
            "_view_module": "@jupyter-widgets/base",
            "_view_module_version": "1.2.0",
            "_view_name": "LayoutView",
            "align_content": null,
            "align_items": null,
            "align_self": null,
            "border": null,
            "bottom": null,
            "display": null,
            "flex": null,
            "flex_flow": null,
            "grid_area": null,
            "grid_auto_columns": null,
            "grid_auto_flow": null,
            "grid_auto_rows": null,
            "grid_column": null,
            "grid_gap": null,
            "grid_row": null,
            "grid_template_areas": null,
            "grid_template_columns": null,
            "grid_template_rows": null,
            "height": null,
            "justify_content": null,
            "justify_items": null,
            "left": null,
            "margin": null,
            "max_height": null,
            "max_width": null,
            "min_height": null,
            "min_width": null,
            "object_fit": null,
            "object_position": null,
            "order": null,
            "overflow": null,
            "overflow_x": null,
            "overflow_y": null,
            "padding": null,
            "right": null,
            "top": null,
            "visibility": null,
            "width": null
          }
        },
        "d9b70ee26463448dab24ef913a3aeab4": {
          "model_module": "@jupyter-widgets/controls",
          "model_name": "DescriptionStyleModel",
          "model_module_version": "1.5.0",
          "state": {
            "_model_module": "@jupyter-widgets/controls",
            "_model_module_version": "1.5.0",
            "_model_name": "DescriptionStyleModel",
            "_view_count": null,
            "_view_module": "@jupyter-widgets/base",
            "_view_module_version": "1.2.0",
            "_view_name": "StyleView",
            "description_width": ""
          }
        },
        "24d6a84be04c4f39bec901622658ef49": {
          "model_module": "@jupyter-widgets/controls",
          "model_name": "HBoxModel",
          "model_module_version": "1.5.0",
          "state": {
            "_dom_classes": [],
            "_model_module": "@jupyter-widgets/controls",
            "_model_module_version": "1.5.0",
            "_model_name": "HBoxModel",
            "_view_count": null,
            "_view_module": "@jupyter-widgets/controls",
            "_view_module_version": "1.5.0",
            "_view_name": "HBoxView",
            "box_style": "",
            "children": [
              "IPY_MODEL_5c3c1482fad94c80a71ab5083b1b9827",
              "IPY_MODEL_1bb6a01a1e27417585f587bfc36f9aac",
              "IPY_MODEL_e71d76382b2f42c3adec50847b22163f"
            ],
            "layout": "IPY_MODEL_ca10c2a5ab5f407f830dc1daa66de510"
          }
        },
        "5c3c1482fad94c80a71ab5083b1b9827": {
          "model_module": "@jupyter-widgets/controls",
          "model_name": "HTMLModel",
          "model_module_version": "1.5.0",
          "state": {
            "_dom_classes": [],
            "_model_module": "@jupyter-widgets/controls",
            "_model_module_version": "1.5.0",
            "_model_name": "HTMLModel",
            "_view_count": null,
            "_view_module": "@jupyter-widgets/controls",
            "_view_module_version": "1.5.0",
            "_view_name": "HTMLView",
            "description": "",
            "description_tooltip": null,
            "layout": "IPY_MODEL_cf9a393debf24d8b916e0aa5355565c7",
            "placeholder": "​",
            "style": "IPY_MODEL_819681d8611941ac97ff876140afc62b",
            "value": ""
          }
        },
        "1bb6a01a1e27417585f587bfc36f9aac": {
          "model_module": "@jupyter-widgets/controls",
          "model_name": "FloatProgressModel",
          "model_module_version": "1.5.0",
          "state": {
            "_dom_classes": [],
            "_model_module": "@jupyter-widgets/controls",
            "_model_module_version": "1.5.0",
            "_model_name": "FloatProgressModel",
            "_view_count": null,
            "_view_module": "@jupyter-widgets/controls",
            "_view_module_version": "1.5.0",
            "_view_name": "ProgressView",
            "bar_style": "info",
            "description": "",
            "description_tooltip": null,
            "layout": "IPY_MODEL_46595589641745b0875ebb7a18b82896",
            "max": 1,
            "min": 0,
            "orientation": "horizontal",
            "style": "IPY_MODEL_267219e7ce294ea7aba848d671406e09",
            "value": 1
          }
        },
        "e71d76382b2f42c3adec50847b22163f": {
          "model_module": "@jupyter-widgets/controls",
          "model_name": "HTMLModel",
          "model_module_version": "1.5.0",
          "state": {
            "_dom_classes": [],
            "_model_module": "@jupyter-widgets/controls",
            "_model_module_version": "1.5.0",
            "_model_name": "HTMLModel",
            "_view_count": null,
            "_view_module": "@jupyter-widgets/controls",
            "_view_module_version": "1.5.0",
            "_view_name": "HTMLView",
            "description": "",
            "description_tooltip": null,
            "layout": "IPY_MODEL_f0b360ee2e01447c9d0cdb48c79b4d1e",
            "placeholder": "​",
            "style": "IPY_MODEL_89d2c529b6874ffd9460982b253a7bad",
            "value": " 86439/0 [00:07&lt;00:00, 13154.88 examples/s]"
          }
        },
        "ca10c2a5ab5f407f830dc1daa66de510": {
          "model_module": "@jupyter-widgets/base",
          "model_name": "LayoutModel",
          "model_module_version": "1.2.0",
          "state": {
            "_model_module": "@jupyter-widgets/base",
            "_model_module_version": "1.2.0",
            "_model_name": "LayoutModel",
            "_view_count": null,
            "_view_module": "@jupyter-widgets/base",
            "_view_module_version": "1.2.0",
            "_view_name": "LayoutView",
            "align_content": null,
            "align_items": null,
            "align_self": null,
            "border": null,
            "bottom": null,
            "display": null,
            "flex": null,
            "flex_flow": null,
            "grid_area": null,
            "grid_auto_columns": null,
            "grid_auto_flow": null,
            "grid_auto_rows": null,
            "grid_column": null,
            "grid_gap": null,
            "grid_row": null,
            "grid_template_areas": null,
            "grid_template_columns": null,
            "grid_template_rows": null,
            "height": null,
            "justify_content": null,
            "justify_items": null,
            "left": null,
            "margin": null,
            "max_height": null,
            "max_width": null,
            "min_height": null,
            "min_width": null,
            "object_fit": null,
            "object_position": null,
            "order": null,
            "overflow": null,
            "overflow_x": null,
            "overflow_y": null,
            "padding": null,
            "right": null,
            "top": null,
            "visibility": null,
            "width": null
          }
        },
        "cf9a393debf24d8b916e0aa5355565c7": {
          "model_module": "@jupyter-widgets/base",
          "model_name": "LayoutModel",
          "model_module_version": "1.2.0",
          "state": {
            "_model_module": "@jupyter-widgets/base",
            "_model_module_version": "1.2.0",
            "_model_name": "LayoutModel",
            "_view_count": null,
            "_view_module": "@jupyter-widgets/base",
            "_view_module_version": "1.2.0",
            "_view_name": "LayoutView",
            "align_content": null,
            "align_items": null,
            "align_self": null,
            "border": null,
            "bottom": null,
            "display": null,
            "flex": null,
            "flex_flow": null,
            "grid_area": null,
            "grid_auto_columns": null,
            "grid_auto_flow": null,
            "grid_auto_rows": null,
            "grid_column": null,
            "grid_gap": null,
            "grid_row": null,
            "grid_template_areas": null,
            "grid_template_columns": null,
            "grid_template_rows": null,
            "height": null,
            "justify_content": null,
            "justify_items": null,
            "left": null,
            "margin": null,
            "max_height": null,
            "max_width": null,
            "min_height": null,
            "min_width": null,
            "object_fit": null,
            "object_position": null,
            "order": null,
            "overflow": null,
            "overflow_x": null,
            "overflow_y": null,
            "padding": null,
            "right": null,
            "top": null,
            "visibility": null,
            "width": null
          }
        },
        "819681d8611941ac97ff876140afc62b": {
          "model_module": "@jupyter-widgets/controls",
          "model_name": "DescriptionStyleModel",
          "model_module_version": "1.5.0",
          "state": {
            "_model_module": "@jupyter-widgets/controls",
            "_model_module_version": "1.5.0",
            "_model_name": "DescriptionStyleModel",
            "_view_count": null,
            "_view_module": "@jupyter-widgets/base",
            "_view_module_version": "1.2.0",
            "_view_name": "StyleView",
            "description_width": ""
          }
        },
        "46595589641745b0875ebb7a18b82896": {
          "model_module": "@jupyter-widgets/base",
          "model_name": "LayoutModel",
          "model_module_version": "1.2.0",
          "state": {
            "_model_module": "@jupyter-widgets/base",
            "_model_module_version": "1.2.0",
            "_model_name": "LayoutModel",
            "_view_count": null,
            "_view_module": "@jupyter-widgets/base",
            "_view_module_version": "1.2.0",
            "_view_name": "LayoutView",
            "align_content": null,
            "align_items": null,
            "align_self": null,
            "border": null,
            "bottom": null,
            "display": null,
            "flex": null,
            "flex_flow": null,
            "grid_area": null,
            "grid_auto_columns": null,
            "grid_auto_flow": null,
            "grid_auto_rows": null,
            "grid_column": null,
            "grid_gap": null,
            "grid_row": null,
            "grid_template_areas": null,
            "grid_template_columns": null,
            "grid_template_rows": null,
            "height": null,
            "justify_content": null,
            "justify_items": null,
            "left": null,
            "margin": null,
            "max_height": null,
            "max_width": null,
            "min_height": null,
            "min_width": null,
            "object_fit": null,
            "object_position": null,
            "order": null,
            "overflow": null,
            "overflow_x": null,
            "overflow_y": null,
            "padding": null,
            "right": null,
            "top": null,
            "visibility": null,
            "width": "20px"
          }
        },
        "267219e7ce294ea7aba848d671406e09": {
          "model_module": "@jupyter-widgets/controls",
          "model_name": "ProgressStyleModel",
          "model_module_version": "1.5.0",
          "state": {
            "_model_module": "@jupyter-widgets/controls",
            "_model_module_version": "1.5.0",
            "_model_name": "ProgressStyleModel",
            "_view_count": null,
            "_view_module": "@jupyter-widgets/base",
            "_view_module_version": "1.2.0",
            "_view_name": "StyleView",
            "bar_color": null,
            "description_width": ""
          }
        },
        "f0b360ee2e01447c9d0cdb48c79b4d1e": {
          "model_module": "@jupyter-widgets/base",
          "model_name": "LayoutModel",
          "model_module_version": "1.2.0",
          "state": {
            "_model_module": "@jupyter-widgets/base",
            "_model_module_version": "1.2.0",
            "_model_name": "LayoutModel",
            "_view_count": null,
            "_view_module": "@jupyter-widgets/base",
            "_view_module_version": "1.2.0",
            "_view_name": "LayoutView",
            "align_content": null,
            "align_items": null,
            "align_self": null,
            "border": null,
            "bottom": null,
            "display": null,
            "flex": null,
            "flex_flow": null,
            "grid_area": null,
            "grid_auto_columns": null,
            "grid_auto_flow": null,
            "grid_auto_rows": null,
            "grid_column": null,
            "grid_gap": null,
            "grid_row": null,
            "grid_template_areas": null,
            "grid_template_columns": null,
            "grid_template_rows": null,
            "height": null,
            "justify_content": null,
            "justify_items": null,
            "left": null,
            "margin": null,
            "max_height": null,
            "max_width": null,
            "min_height": null,
            "min_width": null,
            "object_fit": null,
            "object_position": null,
            "order": null,
            "overflow": null,
            "overflow_x": null,
            "overflow_y": null,
            "padding": null,
            "right": null,
            "top": null,
            "visibility": null,
            "width": null
          }
        },
        "89d2c529b6874ffd9460982b253a7bad": {
          "model_module": "@jupyter-widgets/controls",
          "model_name": "DescriptionStyleModel",
          "model_module_version": "1.5.0",
          "state": {
            "_model_module": "@jupyter-widgets/controls",
            "_model_module_version": "1.5.0",
            "_model_name": "DescriptionStyleModel",
            "_view_count": null,
            "_view_module": "@jupyter-widgets/base",
            "_view_module_version": "1.2.0",
            "_view_name": "StyleView",
            "description_width": ""
          }
        },
        "25bdc21156e24dde9fa5042a5c51f087": {
          "model_module": "@jupyter-widgets/controls",
          "model_name": "HBoxModel",
          "model_module_version": "1.5.0",
          "state": {
            "_dom_classes": [],
            "_model_module": "@jupyter-widgets/controls",
            "_model_module_version": "1.5.0",
            "_model_name": "HBoxModel",
            "_view_count": null,
            "_view_module": "@jupyter-widgets/controls",
            "_view_module_version": "1.5.0",
            "_view_name": "HBoxView",
            "box_style": "",
            "children": [
              "IPY_MODEL_fe367e4fbacd462992813dadf9850d49",
              "IPY_MODEL_de6e1a37c903469197abb9b5378b4255",
              "IPY_MODEL_b94b40361268427db2317dca36e10e78"
            ],
            "layout": "IPY_MODEL_3b1653d0280d45599a6bcae1a6a9f1cf"
          }
        },
        "fe367e4fbacd462992813dadf9850d49": {
          "model_module": "@jupyter-widgets/controls",
          "model_name": "HTMLModel",
          "model_module_version": "1.5.0",
          "state": {
            "_dom_classes": [],
            "_model_module": "@jupyter-widgets/controls",
            "_model_module_version": "1.5.0",
            "_model_name": "HTMLModel",
            "_view_count": null,
            "_view_module": "@jupyter-widgets/controls",
            "_view_module_version": "1.5.0",
            "_view_name": "HTMLView",
            "description": "",
            "description_tooltip": null,
            "layout": "IPY_MODEL_bdc0555ccbdf47498c3086c92cd605c2",
            "placeholder": "​",
            "style": "IPY_MODEL_7f40cd062e964e8b89cfe2175adfeea8",
            "value": ""
          }
        },
        "de6e1a37c903469197abb9b5378b4255": {
          "model_module": "@jupyter-widgets/controls",
          "model_name": "FloatProgressModel",
          "model_module_version": "1.5.0",
          "state": {
            "_dom_classes": [],
            "_model_module": "@jupyter-widgets/controls",
            "_model_module_version": "1.5.0",
            "_model_name": "FloatProgressModel",
            "_view_count": null,
            "_view_module": "@jupyter-widgets/controls",
            "_view_module_version": "1.5.0",
            "_view_name": "ProgressView",
            "bar_style": "info",
            "description": "",
            "description_tooltip": null,
            "layout": "IPY_MODEL_b6637ec17f4a4fea86f2de74284fe780",
            "max": 1,
            "min": 0,
            "orientation": "horizontal",
            "style": "IPY_MODEL_607c388bbf354ac1979984329b8e3b15",
            "value": 1
          }
        },
        "b94b40361268427db2317dca36e10e78": {
          "model_module": "@jupyter-widgets/controls",
          "model_name": "HTMLModel",
          "model_module_version": "1.5.0",
          "state": {
            "_dom_classes": [],
            "_model_module": "@jupyter-widgets/controls",
            "_model_module_version": "1.5.0",
            "_model_name": "HTMLModel",
            "_view_count": null,
            "_view_module": "@jupyter-widgets/controls",
            "_view_module_version": "1.5.0",
            "_view_name": "HTMLView",
            "description": "",
            "description_tooltip": null,
            "layout": "IPY_MODEL_344bb9282c7f4bdb897b1762b574cedb",
            "placeholder": "​",
            "style": "IPY_MODEL_4ed2d31dd6264d60a0310e8075a901b6",
            "value": " 9999/0 [00:01&lt;00:00, 8233.86 examples/s]"
          }
        },
        "3b1653d0280d45599a6bcae1a6a9f1cf": {
          "model_module": "@jupyter-widgets/base",
          "model_name": "LayoutModel",
          "model_module_version": "1.2.0",
          "state": {
            "_model_module": "@jupyter-widgets/base",
            "_model_module_version": "1.2.0",
            "_model_name": "LayoutModel",
            "_view_count": null,
            "_view_module": "@jupyter-widgets/base",
            "_view_module_version": "1.2.0",
            "_view_name": "LayoutView",
            "align_content": null,
            "align_items": null,
            "align_self": null,
            "border": null,
            "bottom": null,
            "display": null,
            "flex": null,
            "flex_flow": null,
            "grid_area": null,
            "grid_auto_columns": null,
            "grid_auto_flow": null,
            "grid_auto_rows": null,
            "grid_column": null,
            "grid_gap": null,
            "grid_row": null,
            "grid_template_areas": null,
            "grid_template_columns": null,
            "grid_template_rows": null,
            "height": null,
            "justify_content": null,
            "justify_items": null,
            "left": null,
            "margin": null,
            "max_height": null,
            "max_width": null,
            "min_height": null,
            "min_width": null,
            "object_fit": null,
            "object_position": null,
            "order": null,
            "overflow": null,
            "overflow_x": null,
            "overflow_y": null,
            "padding": null,
            "right": null,
            "top": null,
            "visibility": null,
            "width": null
          }
        },
        "bdc0555ccbdf47498c3086c92cd605c2": {
          "model_module": "@jupyter-widgets/base",
          "model_name": "LayoutModel",
          "model_module_version": "1.2.0",
          "state": {
            "_model_module": "@jupyter-widgets/base",
            "_model_module_version": "1.2.0",
            "_model_name": "LayoutModel",
            "_view_count": null,
            "_view_module": "@jupyter-widgets/base",
            "_view_module_version": "1.2.0",
            "_view_name": "LayoutView",
            "align_content": null,
            "align_items": null,
            "align_self": null,
            "border": null,
            "bottom": null,
            "display": null,
            "flex": null,
            "flex_flow": null,
            "grid_area": null,
            "grid_auto_columns": null,
            "grid_auto_flow": null,
            "grid_auto_rows": null,
            "grid_column": null,
            "grid_gap": null,
            "grid_row": null,
            "grid_template_areas": null,
            "grid_template_columns": null,
            "grid_template_rows": null,
            "height": null,
            "justify_content": null,
            "justify_items": null,
            "left": null,
            "margin": null,
            "max_height": null,
            "max_width": null,
            "min_height": null,
            "min_width": null,
            "object_fit": null,
            "object_position": null,
            "order": null,
            "overflow": null,
            "overflow_x": null,
            "overflow_y": null,
            "padding": null,
            "right": null,
            "top": null,
            "visibility": null,
            "width": null
          }
        },
        "7f40cd062e964e8b89cfe2175adfeea8": {
          "model_module": "@jupyter-widgets/controls",
          "model_name": "DescriptionStyleModel",
          "model_module_version": "1.5.0",
          "state": {
            "_model_module": "@jupyter-widgets/controls",
            "_model_module_version": "1.5.0",
            "_model_name": "DescriptionStyleModel",
            "_view_count": null,
            "_view_module": "@jupyter-widgets/base",
            "_view_module_version": "1.2.0",
            "_view_name": "StyleView",
            "description_width": ""
          }
        },
        "b6637ec17f4a4fea86f2de74284fe780": {
          "model_module": "@jupyter-widgets/base",
          "model_name": "LayoutModel",
          "model_module_version": "1.2.0",
          "state": {
            "_model_module": "@jupyter-widgets/base",
            "_model_module_version": "1.2.0",
            "_model_name": "LayoutModel",
            "_view_count": null,
            "_view_module": "@jupyter-widgets/base",
            "_view_module_version": "1.2.0",
            "_view_name": "LayoutView",
            "align_content": null,
            "align_items": null,
            "align_self": null,
            "border": null,
            "bottom": null,
            "display": null,
            "flex": null,
            "flex_flow": null,
            "grid_area": null,
            "grid_auto_columns": null,
            "grid_auto_flow": null,
            "grid_auto_rows": null,
            "grid_column": null,
            "grid_gap": null,
            "grid_row": null,
            "grid_template_areas": null,
            "grid_template_columns": null,
            "grid_template_rows": null,
            "height": null,
            "justify_content": null,
            "justify_items": null,
            "left": null,
            "margin": null,
            "max_height": null,
            "max_width": null,
            "min_height": null,
            "min_width": null,
            "object_fit": null,
            "object_position": null,
            "order": null,
            "overflow": null,
            "overflow_x": null,
            "overflow_y": null,
            "padding": null,
            "right": null,
            "top": null,
            "visibility": null,
            "width": "20px"
          }
        },
        "607c388bbf354ac1979984329b8e3b15": {
          "model_module": "@jupyter-widgets/controls",
          "model_name": "ProgressStyleModel",
          "model_module_version": "1.5.0",
          "state": {
            "_model_module": "@jupyter-widgets/controls",
            "_model_module_version": "1.5.0",
            "_model_name": "ProgressStyleModel",
            "_view_count": null,
            "_view_module": "@jupyter-widgets/base",
            "_view_module_version": "1.2.0",
            "_view_name": "StyleView",
            "bar_color": null,
            "description_width": ""
          }
        },
        "344bb9282c7f4bdb897b1762b574cedb": {
          "model_module": "@jupyter-widgets/base",
          "model_name": "LayoutModel",
          "model_module_version": "1.2.0",
          "state": {
            "_model_module": "@jupyter-widgets/base",
            "_model_module_version": "1.2.0",
            "_model_name": "LayoutModel",
            "_view_count": null,
            "_view_module": "@jupyter-widgets/base",
            "_view_module_version": "1.2.0",
            "_view_name": "LayoutView",
            "align_content": null,
            "align_items": null,
            "align_self": null,
            "border": null,
            "bottom": null,
            "display": null,
            "flex": null,
            "flex_flow": null,
            "grid_area": null,
            "grid_auto_columns": null,
            "grid_auto_flow": null,
            "grid_auto_rows": null,
            "grid_column": null,
            "grid_gap": null,
            "grid_row": null,
            "grid_template_areas": null,
            "grid_template_columns": null,
            "grid_template_rows": null,
            "height": null,
            "justify_content": null,
            "justify_items": null,
            "left": null,
            "margin": null,
            "max_height": null,
            "max_width": null,
            "min_height": null,
            "min_width": null,
            "object_fit": null,
            "object_position": null,
            "order": null,
            "overflow": null,
            "overflow_x": null,
            "overflow_y": null,
            "padding": null,
            "right": null,
            "top": null,
            "visibility": null,
            "width": null
          }
        },
        "4ed2d31dd6264d60a0310e8075a901b6": {
          "model_module": "@jupyter-widgets/controls",
          "model_name": "DescriptionStyleModel",
          "model_module_version": "1.5.0",
          "state": {
            "_model_module": "@jupyter-widgets/controls",
            "_model_module_version": "1.5.0",
            "_model_name": "DescriptionStyleModel",
            "_view_count": null,
            "_view_module": "@jupyter-widgets/base",
            "_view_module_version": "1.2.0",
            "_view_name": "StyleView",
            "description_width": ""
          }
        },
        "3376572a2780485f8f8987c3def4148c": {
          "model_module": "@jupyter-widgets/controls",
          "model_name": "HBoxModel",
          "model_module_version": "1.5.0",
          "state": {
            "_dom_classes": [],
            "_model_module": "@jupyter-widgets/controls",
            "_model_module_version": "1.5.0",
            "_model_name": "HBoxModel",
            "_view_count": null,
            "_view_module": "@jupyter-widgets/controls",
            "_view_module_version": "1.5.0",
            "_view_name": "HBoxView",
            "box_style": "",
            "children": [
              "IPY_MODEL_829b05f91ad84b419da5f0539a1fb686",
              "IPY_MODEL_918d31074ab2455ca226dd2582f4664c",
              "IPY_MODEL_e6a44c68c4b641ed8572df6b05918bc7"
            ],
            "layout": "IPY_MODEL_857f5c8cbef847df84c495d1994507c3"
          }
        },
        "829b05f91ad84b419da5f0539a1fb686": {
          "model_module": "@jupyter-widgets/controls",
          "model_name": "HTMLModel",
          "model_module_version": "1.5.0",
          "state": {
            "_dom_classes": [],
            "_model_module": "@jupyter-widgets/controls",
            "_model_module_version": "1.5.0",
            "_model_name": "HTMLModel",
            "_view_count": null,
            "_view_module": "@jupyter-widgets/controls",
            "_view_module_version": "1.5.0",
            "_view_name": "HTMLView",
            "description": "",
            "description_tooltip": null,
            "layout": "IPY_MODEL_e119c614d70c4522a790456ac92a93dc",
            "placeholder": "​",
            "style": "IPY_MODEL_e602dd6d969a4191989e0cbce3fea30c",
            "value": "Downloading: 100%"
          }
        },
        "918d31074ab2455ca226dd2582f4664c": {
          "model_module": "@jupyter-widgets/controls",
          "model_name": "FloatProgressModel",
          "model_module_version": "1.5.0",
          "state": {
            "_dom_classes": [],
            "_model_module": "@jupyter-widgets/controls",
            "_model_module_version": "1.5.0",
            "_model_name": "FloatProgressModel",
            "_view_count": null,
            "_view_module": "@jupyter-widgets/controls",
            "_view_module_version": "1.5.0",
            "_view_name": "ProgressView",
            "bar_style": "success",
            "description": "",
            "description_tooltip": null,
            "layout": "IPY_MODEL_31d967adfab54e07a8b1cecc92bce949",
            "max": 242065649,
            "min": 0,
            "orientation": "horizontal",
            "style": "IPY_MODEL_a7636741b0a44ac699dc2416054eb752",
            "value": 242065649
          }
        },
        "e6a44c68c4b641ed8572df6b05918bc7": {
          "model_module": "@jupyter-widgets/controls",
          "model_name": "HTMLModel",
          "model_module_version": "1.5.0",
          "state": {
            "_dom_classes": [],
            "_model_module": "@jupyter-widgets/controls",
            "_model_module_version": "1.5.0",
            "_model_name": "HTMLModel",
            "_view_count": null,
            "_view_module": "@jupyter-widgets/controls",
            "_view_module_version": "1.5.0",
            "_view_name": "HTMLView",
            "description": "",
            "description_tooltip": null,
            "layout": "IPY_MODEL_e9afb4fad32b4e84aa915ca7e9af7152",
            "placeholder": "​",
            "style": "IPY_MODEL_ab71fe85ba9549d9b0080fabecb1e28e",
            "value": " 231M/231M [00:05&lt;00:00, 48.2MB/s]"
          }
        },
        "857f5c8cbef847df84c495d1994507c3": {
          "model_module": "@jupyter-widgets/base",
          "model_name": "LayoutModel",
          "model_module_version": "1.2.0",
          "state": {
            "_model_module": "@jupyter-widgets/base",
            "_model_module_version": "1.2.0",
            "_model_name": "LayoutModel",
            "_view_count": null,
            "_view_module": "@jupyter-widgets/base",
            "_view_module_version": "1.2.0",
            "_view_name": "LayoutView",
            "align_content": null,
            "align_items": null,
            "align_self": null,
            "border": null,
            "bottom": null,
            "display": null,
            "flex": null,
            "flex_flow": null,
            "grid_area": null,
            "grid_auto_columns": null,
            "grid_auto_flow": null,
            "grid_auto_rows": null,
            "grid_column": null,
            "grid_gap": null,
            "grid_row": null,
            "grid_template_areas": null,
            "grid_template_columns": null,
            "grid_template_rows": null,
            "height": null,
            "justify_content": null,
            "justify_items": null,
            "left": null,
            "margin": null,
            "max_height": null,
            "max_width": null,
            "min_height": null,
            "min_width": null,
            "object_fit": null,
            "object_position": null,
            "order": null,
            "overflow": null,
            "overflow_x": null,
            "overflow_y": null,
            "padding": null,
            "right": null,
            "top": null,
            "visibility": null,
            "width": null
          }
        },
        "e119c614d70c4522a790456ac92a93dc": {
          "model_module": "@jupyter-widgets/base",
          "model_name": "LayoutModel",
          "model_module_version": "1.2.0",
          "state": {
            "_model_module": "@jupyter-widgets/base",
            "_model_module_version": "1.2.0",
            "_model_name": "LayoutModel",
            "_view_count": null,
            "_view_module": "@jupyter-widgets/base",
            "_view_module_version": "1.2.0",
            "_view_name": "LayoutView",
            "align_content": null,
            "align_items": null,
            "align_self": null,
            "border": null,
            "bottom": null,
            "display": null,
            "flex": null,
            "flex_flow": null,
            "grid_area": null,
            "grid_auto_columns": null,
            "grid_auto_flow": null,
            "grid_auto_rows": null,
            "grid_column": null,
            "grid_gap": null,
            "grid_row": null,
            "grid_template_areas": null,
            "grid_template_columns": null,
            "grid_template_rows": null,
            "height": null,
            "justify_content": null,
            "justify_items": null,
            "left": null,
            "margin": null,
            "max_height": null,
            "max_width": null,
            "min_height": null,
            "min_width": null,
            "object_fit": null,
            "object_position": null,
            "order": null,
            "overflow": null,
            "overflow_x": null,
            "overflow_y": null,
            "padding": null,
            "right": null,
            "top": null,
            "visibility": null,
            "width": null
          }
        },
        "e602dd6d969a4191989e0cbce3fea30c": {
          "model_module": "@jupyter-widgets/controls",
          "model_name": "DescriptionStyleModel",
          "model_module_version": "1.5.0",
          "state": {
            "_model_module": "@jupyter-widgets/controls",
            "_model_module_version": "1.5.0",
            "_model_name": "DescriptionStyleModel",
            "_view_count": null,
            "_view_module": "@jupyter-widgets/base",
            "_view_module_version": "1.2.0",
            "_view_name": "StyleView",
            "description_width": ""
          }
        },
        "31d967adfab54e07a8b1cecc92bce949": {
          "model_module": "@jupyter-widgets/base",
          "model_name": "LayoutModel",
          "model_module_version": "1.2.0",
          "state": {
            "_model_module": "@jupyter-widgets/base",
            "_model_module_version": "1.2.0",
            "_model_name": "LayoutModel",
            "_view_count": null,
            "_view_module": "@jupyter-widgets/base",
            "_view_module_version": "1.2.0",
            "_view_name": "LayoutView",
            "align_content": null,
            "align_items": null,
            "align_self": null,
            "border": null,
            "bottom": null,
            "display": null,
            "flex": null,
            "flex_flow": null,
            "grid_area": null,
            "grid_auto_columns": null,
            "grid_auto_flow": null,
            "grid_auto_rows": null,
            "grid_column": null,
            "grid_gap": null,
            "grid_row": null,
            "grid_template_areas": null,
            "grid_template_columns": null,
            "grid_template_rows": null,
            "height": null,
            "justify_content": null,
            "justify_items": null,
            "left": null,
            "margin": null,
            "max_height": null,
            "max_width": null,
            "min_height": null,
            "min_width": null,
            "object_fit": null,
            "object_position": null,
            "order": null,
            "overflow": null,
            "overflow_x": null,
            "overflow_y": null,
            "padding": null,
            "right": null,
            "top": null,
            "visibility": null,
            "width": null
          }
        },
        "a7636741b0a44ac699dc2416054eb752": {
          "model_module": "@jupyter-widgets/controls",
          "model_name": "ProgressStyleModel",
          "model_module_version": "1.5.0",
          "state": {
            "_model_module": "@jupyter-widgets/controls",
            "_model_module_version": "1.5.0",
            "_model_name": "ProgressStyleModel",
            "_view_count": null,
            "_view_module": "@jupyter-widgets/base",
            "_view_module_version": "1.2.0",
            "_view_name": "StyleView",
            "bar_color": null,
            "description_width": ""
          }
        },
        "e9afb4fad32b4e84aa915ca7e9af7152": {
          "model_module": "@jupyter-widgets/base",
          "model_name": "LayoutModel",
          "model_module_version": "1.2.0",
          "state": {
            "_model_module": "@jupyter-widgets/base",
            "_model_module_version": "1.2.0",
            "_model_name": "LayoutModel",
            "_view_count": null,
            "_view_module": "@jupyter-widgets/base",
            "_view_module_version": "1.2.0",
            "_view_name": "LayoutView",
            "align_content": null,
            "align_items": null,
            "align_self": null,
            "border": null,
            "bottom": null,
            "display": null,
            "flex": null,
            "flex_flow": null,
            "grid_area": null,
            "grid_auto_columns": null,
            "grid_auto_flow": null,
            "grid_auto_rows": null,
            "grid_column": null,
            "grid_gap": null,
            "grid_row": null,
            "grid_template_areas": null,
            "grid_template_columns": null,
            "grid_template_rows": null,
            "height": null,
            "justify_content": null,
            "justify_items": null,
            "left": null,
            "margin": null,
            "max_height": null,
            "max_width": null,
            "min_height": null,
            "min_width": null,
            "object_fit": null,
            "object_position": null,
            "order": null,
            "overflow": null,
            "overflow_x": null,
            "overflow_y": null,
            "padding": null,
            "right": null,
            "top": null,
            "visibility": null,
            "width": null
          }
        },
        "ab71fe85ba9549d9b0080fabecb1e28e": {
          "model_module": "@jupyter-widgets/controls",
          "model_name": "DescriptionStyleModel",
          "model_module_version": "1.5.0",
          "state": {
            "_model_module": "@jupyter-widgets/controls",
            "_model_module_version": "1.5.0",
            "_model_name": "DescriptionStyleModel",
            "_view_count": null,
            "_view_module": "@jupyter-widgets/base",
            "_view_module_version": "1.2.0",
            "_view_name": "StyleView",
            "description_width": ""
          }
        }
      }
    }
  },
  "nbformat": 4,
  "nbformat_minor": 0
}